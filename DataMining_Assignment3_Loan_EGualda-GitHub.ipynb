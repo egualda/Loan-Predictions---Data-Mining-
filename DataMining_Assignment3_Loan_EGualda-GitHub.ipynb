{
 "cells": [
  {
   "cell_type": "code",
   "execution_count": 1,
   "id": "6e0c4999-6929-486c-9608-d78edb68015c",
   "metadata": {
    "tags": []
   },
   "outputs": [],
   "source": [
    "%matplotlib inline\n",
    "import numpy as np\n",
    "import pandas as pd\n",
    "from scipy import stats\n",
    "import matplotlib.pyplot as plt\n",
    "import seaborn as sns\n",
    "from sklearn.model_selection import train_test_split\n",
    "# Importing Regression Modules\n",
    "from sklearn.linear_model import LinearRegression\n",
    "from sklearn.tree import DecisionTreeRegressor\n",
    "from sklearn.ensemble import RandomForestRegressor, GradientBoostingRegressor\n",
    "from sklearn.svm import SVR\n",
    "from sklearn.neural_network import MLPRegressor\n",
    "from sklearn.neighbors import KNeighborsRegressor\n",
    "from sklearn.linear_model import ElasticNet\n",
    "from sklearn.metrics import mean_squared_error"
   ]
  },
  {
   "cell_type": "code",
   "execution_count": 2,
   "id": "652e72b9-e97f-4432-bc7d-5583d6b4efab",
   "metadata": {
    "tags": []
   },
   "outputs": [
    {
     "name": "stderr",
     "output_type": "stream",
     "text": [
      "/var/folders/hm/gwb0cqbs5g57t8bgrprc_2t40000gn/T/ipykernel_21902/2415690009.py:1: DtypeWarning: Columns (15) have mixed types. Specify dtype option on import or set low_memory=False.\n",
      "  df = pd.read_csv('/Users/ElenaGualda_1/Desktop/Winter 2024/Data Mining/Assignment 3/Assignment-03-2024/Loan_Prediction/Data for Cleaning _ Modeling.csv')\n"
     ]
    },
    {
     "data": {
      "text/html": [
       "<div>\n",
       "<style scoped>\n",
       "    .dataframe tbody tr th:only-of-type {\n",
       "        vertical-align: middle;\n",
       "    }\n",
       "\n",
       "    .dataframe tbody tr th {\n",
       "        vertical-align: top;\n",
       "    }\n",
       "\n",
       "    .dataframe thead th {\n",
       "        text-align: right;\n",
       "    }\n",
       "</style>\n",
       "<table border=\"1\" class=\"dataframe\">\n",
       "  <thead>\n",
       "    <tr style=\"text-align: right;\">\n",
       "      <th></th>\n",
       "      <th>X1</th>\n",
       "      <th>X2</th>\n",
       "      <th>X3</th>\n",
       "      <th>X4</th>\n",
       "      <th>X5</th>\n",
       "      <th>X6</th>\n",
       "      <th>X7</th>\n",
       "      <th>X8</th>\n",
       "      <th>X9</th>\n",
       "      <th>X10</th>\n",
       "      <th>...</th>\n",
       "      <th>X23</th>\n",
       "      <th>X24</th>\n",
       "      <th>X25</th>\n",
       "      <th>X26</th>\n",
       "      <th>X27</th>\n",
       "      <th>X28</th>\n",
       "      <th>X29</th>\n",
       "      <th>X30</th>\n",
       "      <th>X31</th>\n",
       "      <th>X32</th>\n",
       "    </tr>\n",
       "  </thead>\n",
       "  <tbody>\n",
       "    <tr>\n",
       "      <th>0</th>\n",
       "      <td>11.89%</td>\n",
       "      <td>54734.0</td>\n",
       "      <td>80364.0</td>\n",
       "      <td>$25,000</td>\n",
       "      <td>$25,000</td>\n",
       "      <td>$19,080</td>\n",
       "      <td>36 months</td>\n",
       "      <td>B</td>\n",
       "      <td>B4</td>\n",
       "      <td>NaN</td>\n",
       "      <td>...</td>\n",
       "      <td>Feb-94</td>\n",
       "      <td>0.0</td>\n",
       "      <td>NaN</td>\n",
       "      <td>NaN</td>\n",
       "      <td>10.0</td>\n",
       "      <td>0.0</td>\n",
       "      <td>28854.0</td>\n",
       "      <td>52.10%</td>\n",
       "      <td>42.0</td>\n",
       "      <td>f</td>\n",
       "    </tr>\n",
       "    <tr>\n",
       "      <th>1</th>\n",
       "      <td>10.71%</td>\n",
       "      <td>55742.0</td>\n",
       "      <td>114426.0</td>\n",
       "      <td>$7,000</td>\n",
       "      <td>$7,000</td>\n",
       "      <td>$673</td>\n",
       "      <td>36 months</td>\n",
       "      <td>B</td>\n",
       "      <td>B5</td>\n",
       "      <td>CNN</td>\n",
       "      <td>...</td>\n",
       "      <td>Oct-00</td>\n",
       "      <td>0.0</td>\n",
       "      <td>NaN</td>\n",
       "      <td>NaN</td>\n",
       "      <td>7.0</td>\n",
       "      <td>0.0</td>\n",
       "      <td>33623.0</td>\n",
       "      <td>76.70%</td>\n",
       "      <td>7.0</td>\n",
       "      <td>f</td>\n",
       "    </tr>\n",
       "    <tr>\n",
       "      <th>2</th>\n",
       "      <td>16.99%</td>\n",
       "      <td>57167.0</td>\n",
       "      <td>137225.0</td>\n",
       "      <td>$25,000</td>\n",
       "      <td>$25,000</td>\n",
       "      <td>$24,725</td>\n",
       "      <td>36 months</td>\n",
       "      <td>D</td>\n",
       "      <td>D3</td>\n",
       "      <td>Web Programmer</td>\n",
       "      <td>...</td>\n",
       "      <td>Jun-00</td>\n",
       "      <td>0.0</td>\n",
       "      <td>41.0</td>\n",
       "      <td>NaN</td>\n",
       "      <td>10.0</td>\n",
       "      <td>0.0</td>\n",
       "      <td>19878.0</td>\n",
       "      <td>66.30%</td>\n",
       "      <td>17.0</td>\n",
       "      <td>f</td>\n",
       "    </tr>\n",
       "    <tr>\n",
       "      <th>3</th>\n",
       "      <td>13.11%</td>\n",
       "      <td>57245.0</td>\n",
       "      <td>138150.0</td>\n",
       "      <td>$1,200</td>\n",
       "      <td>$1,200</td>\n",
       "      <td>$1,200</td>\n",
       "      <td>36 months</td>\n",
       "      <td>C</td>\n",
       "      <td>C2</td>\n",
       "      <td>city of beaumont texas</td>\n",
       "      <td>...</td>\n",
       "      <td>Jan-85</td>\n",
       "      <td>0.0</td>\n",
       "      <td>64.0</td>\n",
       "      <td>NaN</td>\n",
       "      <td>5.0</td>\n",
       "      <td>0.0</td>\n",
       "      <td>2584.0</td>\n",
       "      <td>40.40%</td>\n",
       "      <td>31.0</td>\n",
       "      <td>f</td>\n",
       "    </tr>\n",
       "    <tr>\n",
       "      <th>4</th>\n",
       "      <td>13.57%</td>\n",
       "      <td>57416.0</td>\n",
       "      <td>139635.0</td>\n",
       "      <td>$10,800</td>\n",
       "      <td>$10,800</td>\n",
       "      <td>$10,692</td>\n",
       "      <td>36 months</td>\n",
       "      <td>C</td>\n",
       "      <td>C3</td>\n",
       "      <td>State Farm Insurance</td>\n",
       "      <td>...</td>\n",
       "      <td>Dec-96</td>\n",
       "      <td>1.0</td>\n",
       "      <td>58.0</td>\n",
       "      <td>NaN</td>\n",
       "      <td>14.0</td>\n",
       "      <td>0.0</td>\n",
       "      <td>3511.0</td>\n",
       "      <td>25.60%</td>\n",
       "      <td>40.0</td>\n",
       "      <td>f</td>\n",
       "    </tr>\n",
       "  </tbody>\n",
       "</table>\n",
       "<p>5 rows × 32 columns</p>\n",
       "</div>"
      ],
      "text/plain": [
       "       X1       X2        X3       X4       X5       X6          X7 X8  X9  \\\n",
       "0  11.89%  54734.0   80364.0  $25,000  $25,000  $19,080   36 months  B  B4   \n",
       "1  10.71%  55742.0  114426.0   $7,000   $7,000     $673   36 months  B  B5   \n",
       "2  16.99%  57167.0  137225.0  $25,000  $25,000  $24,725   36 months  D  D3   \n",
       "3  13.11%  57245.0  138150.0   $1,200   $1,200   $1,200   36 months  C  C2   \n",
       "4  13.57%  57416.0  139635.0  $10,800  $10,800  $10,692   36 months  C  C3   \n",
       "\n",
       "                      X10  ...     X23  X24   X25 X26   X27  X28      X29  \\\n",
       "0                     NaN  ...  Feb-94  0.0   NaN NaN  10.0  0.0  28854.0   \n",
       "1                     CNN  ...  Oct-00  0.0   NaN NaN   7.0  0.0  33623.0   \n",
       "2          Web Programmer  ...  Jun-00  0.0  41.0 NaN  10.0  0.0  19878.0   \n",
       "3  city of beaumont texas  ...  Jan-85  0.0  64.0 NaN   5.0  0.0   2584.0   \n",
       "4    State Farm Insurance  ...  Dec-96  1.0  58.0 NaN  14.0  0.0   3511.0   \n",
       "\n",
       "      X30   X31 X32  \n",
       "0  52.10%  42.0   f  \n",
       "1  76.70%   7.0   f  \n",
       "2  66.30%  17.0   f  \n",
       "3  40.40%  31.0   f  \n",
       "4  25.60%  40.0   f  \n",
       "\n",
       "[5 rows x 32 columns]"
      ]
     },
     "execution_count": 2,
     "metadata": {},
     "output_type": "execute_result"
    }
   ],
   "source": [
    "df = pd.read_csv('/Users/ElenaGualda_1/Desktop/Winter 2024/Data Mining/Assignment 3/Assignment-03-2024/Loan_Prediction/Data for Cleaning _ Modeling.csv')\n",
    "\n",
    "df.head()"
   ]
  },
  {
   "cell_type": "code",
   "execution_count": 3,
   "id": "c037fd94-b8a2-44bd-a50b-d3ba21e4f77f",
   "metadata": {
    "tags": []
   },
   "outputs": [
    {
     "name": "stdout",
     "output_type": "stream",
     "text": [
      "<class 'pandas.core.frame.DataFrame'>\n",
      "RangeIndex: 400000 entries, 0 to 399999\n",
      "Data columns (total 32 columns):\n",
      " #   Column  Non-Null Count   Dtype  \n",
      "---  ------  --------------   -----  \n",
      " 0   X1      338990 non-null  object \n",
      " 1   X2      399999 non-null  float64\n",
      " 2   X3      399999 non-null  float64\n",
      " 3   X4      399999 non-null  object \n",
      " 4   X5      399999 non-null  object \n",
      " 5   X6      399999 non-null  object \n",
      " 6   X7      399999 non-null  object \n",
      " 7   X8      338730 non-null  object \n",
      " 8   X9      338730 non-null  object \n",
      " 9   X10     376014 non-null  object \n",
      " 10  X11     382462 non-null  object \n",
      " 11  X12     338639 non-null  object \n",
      " 12  X13     338972 non-null  float64\n",
      " 13  X14     399999 non-null  object \n",
      " 14  X15     399999 non-null  object \n",
      " 15  X16     123560 non-null  object \n",
      " 16  X17     399999 non-null  object \n",
      " 17  X18     399981 non-null  object \n",
      " 18  X19     399999 non-null  object \n",
      " 19  X20     399999 non-null  object \n",
      " 20  X21     399999 non-null  float64\n",
      " 21  X22     399999 non-null  float64\n",
      " 22  X23     399999 non-null  object \n",
      " 23  X24     399999 non-null  float64\n",
      " 24  X25     181198 non-null  float64\n",
      " 25  X26     51155 non-null   float64\n",
      " 26  X27     399999 non-null  float64\n",
      " 27  X28     399999 non-null  float64\n",
      " 28  X29     399999 non-null  float64\n",
      " 29  X30     399733 non-null  object \n",
      " 30  X31     399999 non-null  float64\n",
      " 31  X32     399999 non-null  object \n",
      "dtypes: float64(12), object(20)\n",
      "memory usage: 97.7+ MB\n"
     ]
    }
   ],
   "source": [
    "df.info()"
   ]
  },
  {
   "cell_type": "markdown",
   "id": "09fef21a-1428-4bda-bf3e-b2d78ef5593c",
   "metadata": {},
   "source": [
    "# Dropping columns that won't aide in analysis"
   ]
  },
  {
   "cell_type": "code",
   "execution_count": 4,
   "id": "cc0a48eb-abf7-4412-9406-63416b247ace",
   "metadata": {
    "tags": []
   },
   "outputs": [],
   "source": [
    "df = df.drop(['X18', 'X19', 'X25','X26','X16','X9'], axis=1)"
   ]
  },
  {
   "cell_type": "code",
   "execution_count": 5,
   "id": "e18e08ce-fd45-4fc0-b2ec-6ed8c8d48d65",
   "metadata": {
    "tags": []
   },
   "outputs": [],
   "source": [
    "df = df.dropna(subset=['X1'], axis=0)"
   ]
  },
  {
   "cell_type": "code",
   "execution_count": 6,
   "id": "21708842-ff3a-43dd-8ebb-1e4526fe58ba",
   "metadata": {
    "tags": []
   },
   "outputs": [],
   "source": [
    "#stripping the percent sign and then changing it from an object to a float\n",
    "df['X1'] = pd.to_numeric(df['X1'].str.rstrip('%'), errors='coerce')\n",
    "\n",
    "df['X1'] = df['X1'].astype(float)"
   ]
  },
  {
   "cell_type": "code",
   "execution_count": 7,
   "id": "4c565d1b-db60-4e8a-b324-f79a2c677119",
   "metadata": {
    "tags": []
   },
   "outputs": [
    {
     "name": "stdout",
     "output_type": "stream",
     "text": [
      "<class 'pandas.core.frame.DataFrame'>\n",
      "Int64Index: 338990 entries, 0 to 399999\n",
      "Data columns (total 26 columns):\n",
      " #   Column  Non-Null Count   Dtype  \n",
      "---  ------  --------------   -----  \n",
      " 0   X1      338990 non-null  float64\n",
      " 1   X2      338989 non-null  float64\n",
      " 2   X3      338989 non-null  float64\n",
      " 3   X4      338989 non-null  object \n",
      " 4   X5      338989 non-null  object \n",
      " 5   X6      338989 non-null  object \n",
      " 6   X7      338989 non-null  object \n",
      " 7   X8      287123 non-null  object \n",
      " 8   X10     318733 non-null  object \n",
      " 9   X11     324195 non-null  object \n",
      " 10  X12     287030 non-null  object \n",
      " 11  X13     287238 non-null  float64\n",
      " 12  X14     338989 non-null  object \n",
      " 13  X15     338989 non-null  object \n",
      " 14  X17     338989 non-null  object \n",
      " 15  X20     338989 non-null  object \n",
      " 16  X21     338989 non-null  float64\n",
      " 17  X22     338989 non-null  float64\n",
      " 18  X23     338989 non-null  object \n",
      " 19  X24     338989 non-null  float64\n",
      " 20  X27     338989 non-null  float64\n",
      " 21  X28     338989 non-null  float64\n",
      " 22  X29     338989 non-null  float64\n",
      " 23  X30     338765 non-null  object \n",
      " 24  X31     338989 non-null  float64\n",
      " 25  X32     338989 non-null  object \n",
      "dtypes: float64(11), object(15)\n",
      "memory usage: 69.8+ MB\n"
     ]
    }
   ],
   "source": [
    "df.info()"
   ]
  },
  {
   "cell_type": "markdown",
   "id": "35c3dc67-5657-44ba-aedd-f5086b2d84b3",
   "metadata": {},
   "source": [
    "# Handling all Missing Values first "
   ]
  },
  {
   "cell_type": "code",
   "execution_count": 8,
   "id": "051d56e7-1d81-476f-9aef-d7d7af1740ba",
   "metadata": {
    "tags": []
   },
   "outputs": [],
   "source": [
    "#Using the median of the annual income and imputing the missing values with that median value due to the right skewed distribution. \n",
    "median_income = df['X13'].median()\n",
    "\n",
    "df['X13'].fillna(median_income, inplace=True)"
   ]
  },
  {
   "cell_type": "code",
   "execution_count": 9,
   "id": "74c5809e-f326-428b-aba5-212677bdabe8",
   "metadata": {
    "tags": []
   },
   "outputs": [
    {
     "data": {
      "image/png": "[encoded data removed]",
      "text/plain": [
       "<Figure size 640x480 with 1 Axes>"
      ]
     },
     "metadata": {},
     "output_type": "display_data"
    }
   ],
   "source": [
    "#plotting loan grade to see the distribution to figure out how to calculate the missing values\n",
    "\n",
    "loan_grade_counts = df['X8'].value_counts()\n",
    "\n",
    "loan_grade_counts = loan_grade_counts.sort_index()\n",
    "\n",
    "plt.bar(loan_grade_counts.index, loan_grade_counts.values)\n",
    "\n",
    "plt.xlabel('Loan Grade')\n",
    "plt.ylabel('Frequency')\n",
    "plt.title('Frequency of Loan Grades')\n",
    "\n",
    "plt.show()"
   ]
  },
  {
   "cell_type": "code",
   "execution_count": 10,
   "id": "4cdb83c2-a36b-4a82-94be-a2b349abdedf",
   "metadata": {
    "tags": []
   },
   "outputs": [],
   "source": [
    "from sklearn.preprocessing import LabelEncoder"
   ]
  },
  {
   "cell_type": "code",
   "execution_count": 11,
   "id": "dabaefdf-fed7-4db8-bbf5-cb087dad350b",
   "metadata": {
    "tags": []
   },
   "outputs": [],
   "source": [
    "#Im using label encoder to make the categorical data of the loan grade to numeric data and finding the median to fill empty values\n",
    "label_encoder = LabelEncoder()\n",
    "df['X8'] = label_encoder.fit_transform(df['X8'])\n",
    "                                       \n",
    "median_value = df['X8'].median()\n",
    "\n",
    "df['X8'].fillna(median_value, inplace=True)\n"
   ]
  },
  {
   "cell_type": "code",
   "execution_count": 12,
   "id": "f910aa10-796a-4272-8af0-d239ce88e242",
   "metadata": {
    "tags": []
   },
   "outputs": [],
   "source": [
    "df['X8'] = df['X8'].astype(float)"
   ]
  },
  {
   "cell_type": "code",
   "execution_count": 13,
   "id": "db116099-e07b-44af-b85c-e5140692b36e",
   "metadata": {
    "tags": []
   },
   "outputs": [
    {
     "data": {
      "text/plain": [
       "2.0"
      ]
     },
     "execution_count": 13,
     "metadata": {},
     "output_type": "execute_result"
    }
   ],
   "source": [
    "median_value #median value of Loan grade is 2 which is \"C\""
   ]
  },
  {
   "cell_type": "code",
   "execution_count": 14,
   "id": "e224e0fb-ff2f-49c4-b71e-5aa65dd90eba",
   "metadata": {
    "tags": []
   },
   "outputs": [
    {
     "data": {
      "text/html": [
       "<div>\n",
       "<style scoped>\n",
       "    .dataframe tbody tr th:only-of-type {\n",
       "        vertical-align: middle;\n",
       "    }\n",
       "\n",
       "    .dataframe tbody tr th {\n",
       "        vertical-align: top;\n",
       "    }\n",
       "\n",
       "    .dataframe thead th {\n",
       "        text-align: right;\n",
       "    }\n",
       "</style>\n",
       "<table border=\"1\" class=\"dataframe\">\n",
       "  <thead>\n",
       "    <tr style=\"text-align: right;\">\n",
       "      <th></th>\n",
       "      <th>X1</th>\n",
       "      <th>X2</th>\n",
       "      <th>X3</th>\n",
       "      <th>X4</th>\n",
       "      <th>X5</th>\n",
       "      <th>X6</th>\n",
       "      <th>X7</th>\n",
       "      <th>X8</th>\n",
       "      <th>X10</th>\n",
       "      <th>X11</th>\n",
       "      <th>...</th>\n",
       "      <th>X21</th>\n",
       "      <th>X22</th>\n",
       "      <th>X23</th>\n",
       "      <th>X24</th>\n",
       "      <th>X27</th>\n",
       "      <th>X28</th>\n",
       "      <th>X29</th>\n",
       "      <th>X30</th>\n",
       "      <th>X31</th>\n",
       "      <th>X32</th>\n",
       "    </tr>\n",
       "  </thead>\n",
       "  <tbody>\n",
       "    <tr>\n",
       "      <th>0</th>\n",
       "      <td>11.89</td>\n",
       "      <td>54734.0</td>\n",
       "      <td>80364.0</td>\n",
       "      <td>$25,000</td>\n",
       "      <td>$25,000</td>\n",
       "      <td>$19,080</td>\n",
       "      <td>36 months</td>\n",
       "      <td>1.0</td>\n",
       "      <td>NaN</td>\n",
       "      <td>&lt; 1 year</td>\n",
       "      <td>...</td>\n",
       "      <td>19.48</td>\n",
       "      <td>0.0</td>\n",
       "      <td>Feb-94</td>\n",
       "      <td>0.0</td>\n",
       "      <td>10.0</td>\n",
       "      <td>0.0</td>\n",
       "      <td>28854.0</td>\n",
       "      <td>52.10%</td>\n",
       "      <td>42.0</td>\n",
       "      <td>f</td>\n",
       "    </tr>\n",
       "    <tr>\n",
       "      <th>1</th>\n",
       "      <td>10.71</td>\n",
       "      <td>55742.0</td>\n",
       "      <td>114426.0</td>\n",
       "      <td>$7,000</td>\n",
       "      <td>$7,000</td>\n",
       "      <td>$673</td>\n",
       "      <td>36 months</td>\n",
       "      <td>1.0</td>\n",
       "      <td>CNN</td>\n",
       "      <td>&lt; 1 year</td>\n",
       "      <td>...</td>\n",
       "      <td>14.29</td>\n",
       "      <td>0.0</td>\n",
       "      <td>Oct-00</td>\n",
       "      <td>0.0</td>\n",
       "      <td>7.0</td>\n",
       "      <td>0.0</td>\n",
       "      <td>33623.0</td>\n",
       "      <td>76.70%</td>\n",
       "      <td>7.0</td>\n",
       "      <td>f</td>\n",
       "    </tr>\n",
       "    <tr>\n",
       "      <th>2</th>\n",
       "      <td>16.99</td>\n",
       "      <td>57167.0</td>\n",
       "      <td>137225.0</td>\n",
       "      <td>$25,000</td>\n",
       "      <td>$25,000</td>\n",
       "      <td>$24,725</td>\n",
       "      <td>36 months</td>\n",
       "      <td>3.0</td>\n",
       "      <td>Web Programmer</td>\n",
       "      <td>1 year</td>\n",
       "      <td>...</td>\n",
       "      <td>10.50</td>\n",
       "      <td>0.0</td>\n",
       "      <td>Jun-00</td>\n",
       "      <td>0.0</td>\n",
       "      <td>10.0</td>\n",
       "      <td>0.0</td>\n",
       "      <td>19878.0</td>\n",
       "      <td>66.30%</td>\n",
       "      <td>17.0</td>\n",
       "      <td>f</td>\n",
       "    </tr>\n",
       "    <tr>\n",
       "      <th>3</th>\n",
       "      <td>13.11</td>\n",
       "      <td>57245.0</td>\n",
       "      <td>138150.0</td>\n",
       "      <td>$1,200</td>\n",
       "      <td>$1,200</td>\n",
       "      <td>$1,200</td>\n",
       "      <td>36 months</td>\n",
       "      <td>2.0</td>\n",
       "      <td>city of beaumont texas</td>\n",
       "      <td>10+ years</td>\n",
       "      <td>...</td>\n",
       "      <td>5.47</td>\n",
       "      <td>0.0</td>\n",
       "      <td>Jan-85</td>\n",
       "      <td>0.0</td>\n",
       "      <td>5.0</td>\n",
       "      <td>0.0</td>\n",
       "      <td>2584.0</td>\n",
       "      <td>40.40%</td>\n",
       "      <td>31.0</td>\n",
       "      <td>f</td>\n",
       "    </tr>\n",
       "    <tr>\n",
       "      <th>4</th>\n",
       "      <td>13.57</td>\n",
       "      <td>57416.0</td>\n",
       "      <td>139635.0</td>\n",
       "      <td>$10,800</td>\n",
       "      <td>$10,800</td>\n",
       "      <td>$10,692</td>\n",
       "      <td>36 months</td>\n",
       "      <td>2.0</td>\n",
       "      <td>State Farm Insurance</td>\n",
       "      <td>6 years</td>\n",
       "      <td>...</td>\n",
       "      <td>11.63</td>\n",
       "      <td>0.0</td>\n",
       "      <td>Dec-96</td>\n",
       "      <td>1.0</td>\n",
       "      <td>14.0</td>\n",
       "      <td>0.0</td>\n",
       "      <td>3511.0</td>\n",
       "      <td>25.60%</td>\n",
       "      <td>40.0</td>\n",
       "      <td>f</td>\n",
       "    </tr>\n",
       "  </tbody>\n",
       "</table>\n",
       "<p>5 rows × 26 columns</p>\n",
       "</div>"
      ],
      "text/plain": [
       "      X1       X2        X3       X4       X5       X6          X7   X8  \\\n",
       "0  11.89  54734.0   80364.0  $25,000  $25,000  $19,080   36 months  1.0   \n",
       "1  10.71  55742.0  114426.0   $7,000   $7,000     $673   36 months  1.0   \n",
       "2  16.99  57167.0  137225.0  $25,000  $25,000  $24,725   36 months  3.0   \n",
       "3  13.11  57245.0  138150.0   $1,200   $1,200   $1,200   36 months  2.0   \n",
       "4  13.57  57416.0  139635.0  $10,800  $10,800  $10,692   36 months  2.0   \n",
       "\n",
       "                      X10        X11  ...    X21  X22     X23  X24   X27  X28  \\\n",
       "0                     NaN   < 1 year  ...  19.48  0.0  Feb-94  0.0  10.0  0.0   \n",
       "1                     CNN   < 1 year  ...  14.29  0.0  Oct-00  0.0   7.0  0.0   \n",
       "2          Web Programmer     1 year  ...  10.50  0.0  Jun-00  0.0  10.0  0.0   \n",
       "3  city of beaumont texas  10+ years  ...   5.47  0.0  Jan-85  0.0   5.0  0.0   \n",
       "4    State Farm Insurance    6 years  ...  11.63  0.0  Dec-96  1.0  14.0  0.0   \n",
       "\n",
       "       X29     X30   X31  X32  \n",
       "0  28854.0  52.10%  42.0    f  \n",
       "1  33623.0  76.70%   7.0    f  \n",
       "2  19878.0  66.30%  17.0    f  \n",
       "3   2584.0  40.40%  31.0    f  \n",
       "4   3511.0  25.60%  40.0    f  \n",
       "\n",
       "[5 rows x 26 columns]"
      ]
     },
     "execution_count": 14,
     "metadata": {},
     "output_type": "execute_result"
    }
   ],
   "source": [
    "df.head()"
   ]
  },
  {
   "cell_type": "code",
   "execution_count": 15,
   "id": "0873d0c5-564d-48c9-8056-04f5c2de8c8c",
   "metadata": {
    "tags": []
   },
   "outputs": [],
   "source": [
    "#dropping X10(job title) since annual income can be used\n",
    "df = df.drop(['X10'], axis=1)"
   ]
  },
  {
   "cell_type": "code",
   "execution_count": 16,
   "id": "b1f5f1ac-7b64-4be8-9ee4-245dcda9599f",
   "metadata": {},
   "outputs": [],
   "source": [
    "#Missing Values for X11 - Numbers of years employed"
   ]
  },
  {
   "cell_type": "code",
   "execution_count": 17,
   "id": "3b28e90c-fac0-4329-bd3e-3cc6b10eff4b",
   "metadata": {
    "tags": []
   },
   "outputs": [],
   "source": [
    "df['X11'] = df['X11'].str.replace(' years?', '', regex=True)"
   ]
  },
  {
   "cell_type": "code",
   "execution_count": 18,
   "id": "3a7c9e8b-ff10-4eaa-8c13-2e5bd19f84f1",
   "metadata": {
    "tags": []
   },
   "outputs": [],
   "source": [
    "df['X11'] = df['X11'].replace({'< 1': 0, '<1': 0, '< 1 ': 0}, regex=True)"
   ]
  },
  {
   "cell_type": "code",
   "execution_count": 19,
   "id": "20c0cfbe-1295-41fe-836f-438f35bc47e1",
   "metadata": {
    "tags": []
   },
   "outputs": [
    {
     "data": {
      "text/plain": [
       "0      0\n",
       "1      0\n",
       "2      1\n",
       "3    10+\n",
       "4      6\n",
       "Name: X11, dtype: object"
      ]
     },
     "execution_count": 19,
     "metadata": {},
     "output_type": "execute_result"
    }
   ],
   "source": [
    "df['X11'].head()"
   ]
  },
  {
   "cell_type": "code",
   "execution_count": 20,
   "id": "7a781881-02da-4437-b78b-f33b274002e8",
   "metadata": {
    "tags": []
   },
   "outputs": [],
   "source": [
    "df['X11'] = df['X11'].replace('\\+', '', regex=True)"
   ]
  },
  {
   "cell_type": "code",
   "execution_count": 21,
   "id": "74d67afb-0801-4464-88ad-92af52d1889c",
   "metadata": {
    "tags": []
   },
   "outputs": [
    {
     "data": {
      "text/plain": [
       "0     0\n",
       "1     0\n",
       "2     1\n",
       "3    10\n",
       "4     6\n",
       "Name: X11, dtype: object"
      ]
     },
     "execution_count": 21,
     "metadata": {},
     "output_type": "execute_result"
    }
   ],
   "source": [
    "df['X11'].head()"
   ]
  },
  {
   "cell_type": "code",
   "execution_count": 22,
   "id": "9f8afb99-15b6-420d-bfc9-f7d673e4cf68",
   "metadata": {
    "tags": []
   },
   "outputs": [],
   "source": [
    "df['X11'] = df['X11'].astype(float)"
   ]
  },
  {
   "cell_type": "code",
   "execution_count": 23,
   "id": "a2c7dd4e-ccf4-4b27-b11d-a719d07785fc",
   "metadata": {
    "tags": []
   },
   "outputs": [],
   "source": [
    "label_encoder = LabelEncoder()\n",
    "df['X11'] = label_encoder.fit_transform(df['X11'])\n",
    "                                       \n",
    "median_value = df['X11'].median()\n",
    "\n",
    "df['X11'].fillna(median_value, inplace=True)"
   ]
  },
  {
   "cell_type": "markdown",
   "id": "7ad3fdb1-0cbd-445c-bd04-facd8d26d443",
   "metadata": {},
   "source": [
    "#Handling X12 Home Ownership Status "
   ]
  },
  {
   "cell_type": "code",
   "execution_count": 24,
   "id": "af782302-25db-46ce-9e1b-d35b7fd2d766",
   "metadata": {
    "tags": []
   },
   "outputs": [
    {
     "data": {
      "image/png": "[encoded data removed]",
      "text/plain": [
       "<Figure size 1000x600 with 1 Axes>"
      ]
     },
     "metadata": {},
     "output_type": "display_data"
    }
   ],
   "source": [
    "#plotting X12 & X13 to see if there is a correlation between annual income and home status to see how I can fill out NA values.\n",
    "\n",
    "owner_status = df['X12']\n",
    "Income = df['X13']\n",
    "\n",
    "plt.figure(figsize=(10, 6))\n",
    "sns.stripplot(x=owner_status, y=Income, color='blue')\n",
    "\n",
    "plt.xlabel('owner_status')\n",
    "plt.ylabel('Income Value')\n",
    "plt.title('Scatter Plot with Owner Stats and Income')\n",
    "\n",
    "plt.show()"
   ]
  },
  {
   "cell_type": "code",
   "execution_count": 25,
   "id": "5f1ac339-3eb6-4009-8af5-6c220477f702",
   "metadata": {
    "tags": []
   },
   "outputs": [
    {
     "data": {
      "image/png": "[encoded data removed]",
      "text/plain": [
       "<Figure size 1000x600 with 1 Axes>"
      ]
     },
     "metadata": {},
     "output_type": "display_data"
    }
   ],
   "source": [
    "#plotting X12 & X5 to see if there is a correlation between loan amount and home status to see how I can fill out NA values.\n",
    "\n",
    "owner_status = df['X12']\n",
    "loan_amount = df['X5']\n",
    "\n",
    "plt.figure(figsize=(10, 6))\n",
    "sns.stripplot(x=owner_status, y=Income, color='blue')\n",
    "\n",
    "plt.xlabel('owner_status')\n",
    "plt.ylabel('loan_amount')\n",
    "plt.title('Scatter Plot with Owner Status and loan amount')\n",
    "\n",
    "plt.show()"
   ]
  },
  {
   "cell_type": "code",
   "execution_count": 26,
   "id": "23204b2f-734a-438f-b443-27545e3a0bb9",
   "metadata": {
    "tags": []
   },
   "outputs": [
    {
     "data": {
      "image/png": "[encoded data removed]",
      "text/plain": [
       "<Figure size 640x480 with 1 Axes>"
      ]
     },
     "metadata": {},
     "output_type": "display_data"
    }
   ],
   "source": [
    "#plotting home status to see the distribution to figure out how to calculate the missing values\n",
    "\n",
    "home_status = df['X12'].value_counts()\n",
    "\n",
    "home_status = home_status.sort_index()\n",
    "\n",
    "plt.bar(home_status.index, home_status.values)\n",
    "\n",
    "plt.xlabel('homestatus')\n",
    "plt.ylabel('Frequency')\n",
    "plt.title('Frequency of home status')\n",
    "\n",
    "plt.show()"
   ]
  },
  {
   "cell_type": "code",
   "execution_count": 27,
   "id": "e98dbae2-6f0e-4c70-ad16-fe31ec91abbe",
   "metadata": {
    "tags": []
   },
   "outputs": [],
   "source": [
    "df['X12'].fillna('OTHER', inplace=True)"
   ]
  },
  {
   "cell_type": "code",
   "execution_count": 28,
   "id": "1258ffec-1c26-44b9-8e92-373eac17e1f6",
   "metadata": {
    "tags": []
   },
   "outputs": [],
   "source": [
    "#Replacing all missing values with \"OTHER\" while also using label encoder to ensure values aren't counted numerically \n",
    "#in order to have a more balanced data set without skewing the Rent or Mortgage categories\n",
    "\n",
    "label_encoder = LabelEncoder()\n",
    "df['X12'] = label_encoder.fit_transform(df['X12'])"
   ]
  },
  {
   "cell_type": "code",
   "execution_count": 29,
   "id": "e26ba5ef-8493-4af5-abd7-57356c8ab984",
   "metadata": {
    "tags": []
   },
   "outputs": [
    {
     "data": {
      "text/plain": [
       "0    5\n",
       "1    5\n",
       "2    5\n",
       "3    4\n",
       "4    5\n",
       "Name: X12, dtype: int64"
      ]
     },
     "execution_count": 29,
     "metadata": {},
     "output_type": "execute_result"
    }
   ],
   "source": [
    "df['X12'].head()"
   ]
  },
  {
   "cell_type": "code",
   "execution_count": 30,
   "id": "e3728f9f-cd4f-4b91-9006-cd64adfa8744",
   "metadata": {
    "tags": []
   },
   "outputs": [
    {
     "data": {
      "image/png": "[encoded data removed]",
      "text/plain": [
       "<Figure size 640x480 with 1 Axes>"
      ]
     },
     "metadata": {},
     "output_type": "display_data"
    }
   ],
   "source": [
    "home_status = df['X12'].value_counts()\n",
    "\n",
    "home_status = home_status.sort_index()\n",
    "\n",
    "plt.bar(home_status.index, home_status.values)\n",
    "\n",
    "plt.xlabel('homestatus')\n",
    "\n",
    "plt.ylabel('Frequency')\n",
    "plt.title('Frequency of home status')\n",
    "\n",
    "plt.show()"
   ]
  },
  {
   "cell_type": "code",
   "execution_count": 31,
   "id": "81e8c85c-6fdd-4b0e-8eee-3158ddb41e2e",
   "metadata": {
    "tags": []
   },
   "outputs": [],
   "source": [
    "df['X12'] = df['X12'].astype(float)"
   ]
  },
  {
   "cell_type": "markdown",
   "id": "eaf1459a-ca3f-4deb-9a0e-cbdcdab44cbc",
   "metadata": {},
   "source": [
    "#Handling X30 Revolving Line Utilization Credit (Ratio being spent in relation to the loan)"
   ]
  },
  {
   "cell_type": "code",
   "execution_count": 32,
   "id": "ebfd0427-b794-460d-9faf-96d7e17c25f5",
   "metadata": {
    "tags": []
   },
   "outputs": [
    {
     "data": {
      "image/png": "[encoded data removed]",
      "text/plain": [
       "<Figure size 640x480 with 1 Axes>"
      ]
     },
     "metadata": {},
     "output_type": "display_data"
    }
   ],
   "source": [
    "#box plot to see distribution and if I should take the mean or median - used mean to replace NA values\n",
    "utilization_credit = df['X30'].value_counts()\n",
    "\n",
    "utilization_credit = utilization_credit.sort_index()\n",
    "\n",
    "plt.bar(utilization_credit.index, utilization_credit.values)\n",
    "\n",
    "plt.xlabel('utilization_credit')\n",
    "plt.ylabel('Frequency')\n",
    "plt.title('Frequency of utilization credit')\n",
    "\n",
    "plt.show()"
   ]
  },
  {
   "cell_type": "code",
   "execution_count": 33,
   "id": "7358b7b8-37a0-4135-8a9f-ffd8f69466e1",
   "metadata": {
    "tags": []
   },
   "outputs": [],
   "source": [
    "#stripping the percent sign and then changing it from an object to a float\n",
    "df['X30'] = df['X30'].str.rstrip('%').astype(float)"
   ]
  },
  {
   "cell_type": "code",
   "execution_count": 34,
   "id": "1b4bff50-b8a3-4cd1-b291-1ccd1dab428f",
   "metadata": {
    "tags": []
   },
   "outputs": [],
   "source": [
    "#Using the mean of the annual utilization and imputing the missing values with that mean value.\n",
    "mean_utilization = df['X30'].mean()\n",
    "\n",
    "df['X30'].fillna(mean_utilization, inplace=True)"
   ]
  },
  {
   "cell_type": "code",
   "execution_count": 35,
   "id": "cfc6e0da-d5d1-4fb9-9a9b-a14d906576d8",
   "metadata": {
    "tags": []
   },
   "outputs": [
    {
     "name": "stdout",
     "output_type": "stream",
     "text": [
      "0         52.1\n",
      "1         76.7\n",
      "2         66.3\n",
      "3         40.4\n",
      "4         25.6\n",
      "          ... \n",
      "399995    76.1\n",
      "399996    37.8\n",
      "399997    69.3\n",
      "399998    39.0\n",
      "399999    53.7\n",
      "Name: X30, Length: 338990, dtype: float64\n"
     ]
    }
   ],
   "source": [
    "print(df['X30'])"
   ]
  },
  {
   "cell_type": "markdown",
   "id": "e013d377-98b4-48be-bf2d-b28e2c868089",
   "metadata": {},
   "source": [
    "#Handling X7 to remove \"months\" and encode "
   ]
  },
  {
   "cell_type": "code",
   "execution_count": 36,
   "id": "15b70321-85e8-4e88-a921-50b0105858cb",
   "metadata": {
    "tags": []
   },
   "outputs": [],
   "source": [
    "#stripping the \"months\" and then changing it from an object to a float\n",
    "df['X7'] = df['X7'].str.rstrip('months')"
   ]
  },
  {
   "cell_type": "code",
   "execution_count": 37,
   "id": "4660506f-fc4c-4ad3-9863-f56b938fb57e",
   "metadata": {
    "tags": []
   },
   "outputs": [],
   "source": [
    "#encoding X7\n",
    "label_encoder = LabelEncoder()\n",
    "df['X7'] = label_encoder.fit_transform(df['X7'])"
   ]
  },
  {
   "cell_type": "code",
   "execution_count": 38,
   "id": "1a2711a3-a26e-4f73-b334-3acc25ae9028",
   "metadata": {
    "tags": []
   },
   "outputs": [],
   "source": [
    "df['X7'] = df['X7'].astype(float)"
   ]
  },
  {
   "cell_type": "code",
   "execution_count": 39,
   "id": "8689f82d-fa3f-43ec-9011-0526092db6b2",
   "metadata": {
    "tags": []
   },
   "outputs": [
    {
     "data": {
      "text/html": [
       "<div>\n",
       "<style scoped>\n",
       "    .dataframe tbody tr th:only-of-type {\n",
       "        vertical-align: middle;\n",
       "    }\n",
       "\n",
       "    .dataframe tbody tr th {\n",
       "        vertical-align: top;\n",
       "    }\n",
       "\n",
       "    .dataframe thead th {\n",
       "        text-align: right;\n",
       "    }\n",
       "</style>\n",
       "<table border=\"1\" class=\"dataframe\">\n",
       "  <thead>\n",
       "    <tr style=\"text-align: right;\">\n",
       "      <th></th>\n",
       "      <th>X1</th>\n",
       "      <th>X2</th>\n",
       "      <th>X3</th>\n",
       "      <th>X4</th>\n",
       "      <th>X5</th>\n",
       "      <th>X6</th>\n",
       "      <th>X7</th>\n",
       "      <th>X8</th>\n",
       "      <th>X11</th>\n",
       "      <th>X12</th>\n",
       "      <th>...</th>\n",
       "      <th>X21</th>\n",
       "      <th>X22</th>\n",
       "      <th>X23</th>\n",
       "      <th>X24</th>\n",
       "      <th>X27</th>\n",
       "      <th>X28</th>\n",
       "      <th>X29</th>\n",
       "      <th>X30</th>\n",
       "      <th>X31</th>\n",
       "      <th>X32</th>\n",
       "    </tr>\n",
       "  </thead>\n",
       "  <tbody>\n",
       "    <tr>\n",
       "      <th>0</th>\n",
       "      <td>11.89</td>\n",
       "      <td>54734.0</td>\n",
       "      <td>80364.0</td>\n",
       "      <td>$25,000</td>\n",
       "      <td>$25,000</td>\n",
       "      <td>$19,080</td>\n",
       "      <td>0.0</td>\n",
       "      <td>1.0</td>\n",
       "      <td>0</td>\n",
       "      <td>5.0</td>\n",
       "      <td>...</td>\n",
       "      <td>19.48</td>\n",
       "      <td>0.0</td>\n",
       "      <td>Feb-94</td>\n",
       "      <td>0.0</td>\n",
       "      <td>10.0</td>\n",
       "      <td>0.0</td>\n",
       "      <td>28854.0</td>\n",
       "      <td>52.1</td>\n",
       "      <td>42.0</td>\n",
       "      <td>f</td>\n",
       "    </tr>\n",
       "    <tr>\n",
       "      <th>1</th>\n",
       "      <td>10.71</td>\n",
       "      <td>55742.0</td>\n",
       "      <td>114426.0</td>\n",
       "      <td>$7,000</td>\n",
       "      <td>$7,000</td>\n",
       "      <td>$673</td>\n",
       "      <td>0.0</td>\n",
       "      <td>1.0</td>\n",
       "      <td>0</td>\n",
       "      <td>5.0</td>\n",
       "      <td>...</td>\n",
       "      <td>14.29</td>\n",
       "      <td>0.0</td>\n",
       "      <td>Oct-00</td>\n",
       "      <td>0.0</td>\n",
       "      <td>7.0</td>\n",
       "      <td>0.0</td>\n",
       "      <td>33623.0</td>\n",
       "      <td>76.7</td>\n",
       "      <td>7.0</td>\n",
       "      <td>f</td>\n",
       "    </tr>\n",
       "    <tr>\n",
       "      <th>2</th>\n",
       "      <td>16.99</td>\n",
       "      <td>57167.0</td>\n",
       "      <td>137225.0</td>\n",
       "      <td>$25,000</td>\n",
       "      <td>$25,000</td>\n",
       "      <td>$24,725</td>\n",
       "      <td>0.0</td>\n",
       "      <td>3.0</td>\n",
       "      <td>1</td>\n",
       "      <td>5.0</td>\n",
       "      <td>...</td>\n",
       "      <td>10.50</td>\n",
       "      <td>0.0</td>\n",
       "      <td>Jun-00</td>\n",
       "      <td>0.0</td>\n",
       "      <td>10.0</td>\n",
       "      <td>0.0</td>\n",
       "      <td>19878.0</td>\n",
       "      <td>66.3</td>\n",
       "      <td>17.0</td>\n",
       "      <td>f</td>\n",
       "    </tr>\n",
       "    <tr>\n",
       "      <th>3</th>\n",
       "      <td>13.11</td>\n",
       "      <td>57245.0</td>\n",
       "      <td>138150.0</td>\n",
       "      <td>$1,200</td>\n",
       "      <td>$1,200</td>\n",
       "      <td>$1,200</td>\n",
       "      <td>0.0</td>\n",
       "      <td>2.0</td>\n",
       "      <td>10</td>\n",
       "      <td>4.0</td>\n",
       "      <td>...</td>\n",
       "      <td>5.47</td>\n",
       "      <td>0.0</td>\n",
       "      <td>Jan-85</td>\n",
       "      <td>0.0</td>\n",
       "      <td>5.0</td>\n",
       "      <td>0.0</td>\n",
       "      <td>2584.0</td>\n",
       "      <td>40.4</td>\n",
       "      <td>31.0</td>\n",
       "      <td>f</td>\n",
       "    </tr>\n",
       "    <tr>\n",
       "      <th>4</th>\n",
       "      <td>13.57</td>\n",
       "      <td>57416.0</td>\n",
       "      <td>139635.0</td>\n",
       "      <td>$10,800</td>\n",
       "      <td>$10,800</td>\n",
       "      <td>$10,692</td>\n",
       "      <td>0.0</td>\n",
       "      <td>2.0</td>\n",
       "      <td>6</td>\n",
       "      <td>5.0</td>\n",
       "      <td>...</td>\n",
       "      <td>11.63</td>\n",
       "      <td>0.0</td>\n",
       "      <td>Dec-96</td>\n",
       "      <td>1.0</td>\n",
       "      <td>14.0</td>\n",
       "      <td>0.0</td>\n",
       "      <td>3511.0</td>\n",
       "      <td>25.6</td>\n",
       "      <td>40.0</td>\n",
       "      <td>f</td>\n",
       "    </tr>\n",
       "  </tbody>\n",
       "</table>\n",
       "<p>5 rows × 25 columns</p>\n",
       "</div>"
      ],
      "text/plain": [
       "      X1       X2        X3       X4       X5       X6   X7   X8  X11  X12  \\\n",
       "0  11.89  54734.0   80364.0  $25,000  $25,000  $19,080  0.0  1.0    0  5.0   \n",
       "1  10.71  55742.0  114426.0   $7,000   $7,000     $673  0.0  1.0    0  5.0   \n",
       "2  16.99  57167.0  137225.0  $25,000  $25,000  $24,725  0.0  3.0    1  5.0   \n",
       "3  13.11  57245.0  138150.0   $1,200   $1,200   $1,200  0.0  2.0   10  4.0   \n",
       "4  13.57  57416.0  139635.0  $10,800  $10,800  $10,692  0.0  2.0    6  5.0   \n",
       "\n",
       "   ...    X21  X22     X23  X24   X27  X28      X29   X30   X31  X32  \n",
       "0  ...  19.48  0.0  Feb-94  0.0  10.0  0.0  28854.0  52.1  42.0    f  \n",
       "1  ...  14.29  0.0  Oct-00  0.0   7.0  0.0  33623.0  76.7   7.0    f  \n",
       "2  ...  10.50  0.0  Jun-00  0.0  10.0  0.0  19878.0  66.3  17.0    f  \n",
       "3  ...   5.47  0.0  Jan-85  0.0   5.0  0.0   2584.0  40.4  31.0    f  \n",
       "4  ...  11.63  0.0  Dec-96  1.0  14.0  0.0   3511.0  25.6  40.0    f  \n",
       "\n",
       "[5 rows x 25 columns]"
      ]
     },
     "execution_count": 39,
     "metadata": {},
     "output_type": "execute_result"
    }
   ],
   "source": [
    "df.head()"
   ]
  },
  {
   "cell_type": "markdown",
   "id": "2ddf3072-7797-4cb1-93e0-eb98af2ac44d",
   "metadata": {},
   "source": [
    "#Handling X14 by encoding"
   ]
  },
  {
   "cell_type": "code",
   "execution_count": 40,
   "id": "8be5714c-d9b7-4613-b431-9286ad0e22ad",
   "metadata": {
    "tags": []
   },
   "outputs": [],
   "source": [
    "#encoding X14\n",
    "label_encoder = LabelEncoder()\n",
    "df['X14'] = label_encoder.fit_transform(df['X14'])"
   ]
  },
  {
   "cell_type": "code",
   "execution_count": 41,
   "id": "0d0bab79-29b0-42ea-8223-8a0e36a6869a",
   "metadata": {
    "tags": []
   },
   "outputs": [],
   "source": [
    "df['X14'] = df['X14'].astype(float)\n"
   ]
  },
  {
   "cell_type": "code",
   "execution_count": 42,
   "id": "b69db2f9-d544-4f04-aceb-0eb04584f750",
   "metadata": {
    "tags": []
   },
   "outputs": [],
   "source": [
    "#dropping X17 self reported loan category is not useful in analysis \n",
    "df = df.drop(['X17'], axis=1)"
   ]
  },
  {
   "cell_type": "code",
   "execution_count": 43,
   "id": "40163888-dc0f-41e3-8980-4d806d39d367",
   "metadata": {
    "tags": []
   },
   "outputs": [
    {
     "name": "stderr",
     "output_type": "stream",
     "text": [
      "/var/folders/hm/gwb0cqbs5g57t8bgrprc_2t40000gn/T/ipykernel_21902/4015787570.py:2: FutureWarning: The default value of regex will change from True to False in a future version. In addition, single character regular expressions will *not* be treated as literal strings when regex=True.\n",
      "  df['X4'] = df['X4'].str.replace('$', '').astype(str).str.replace(',', '').astype(float)\n",
      "/var/folders/hm/gwb0cqbs5g57t8bgrprc_2t40000gn/T/ipykernel_21902/4015787570.py:3: FutureWarning: The default value of regex will change from True to False in a future version. In addition, single character regular expressions will *not* be treated as literal strings when regex=True.\n",
      "  df['X5'] = df['X5'].str.replace('$', '').astype(str).str.replace(',', '').astype(float)\n",
      "/var/folders/hm/gwb0cqbs5g57t8bgrprc_2t40000gn/T/ipykernel_21902/4015787570.py:4: FutureWarning: The default value of regex will change from True to False in a future version. In addition, single character regular expressions will *not* be treated as literal strings when regex=True.\n",
      "  df['X6'] = df['X6'].str.replace('$', '').astype(str).str.replace(',', '').astype(float)\n"
     ]
    }
   ],
   "source": [
    "#Changing money to floats \n",
    "df['X4'] = df['X4'].str.replace('$', '').astype(str).str.replace(',', '').astype(float)\n",
    "df['X5'] = df['X5'].str.replace('$', '').astype(str).str.replace(',', '').astype(float)\n",
    "df['X6'] = df['X6'].str.replace('$', '').astype(str).str.replace(',', '').astype(float)"
   ]
  },
  {
   "cell_type": "code",
   "execution_count": 44,
   "id": "4b318d02-642a-4b1d-9931-e4c82c2d6638",
   "metadata": {
    "tags": []
   },
   "outputs": [
    {
     "name": "stdout",
     "output_type": "stream",
     "text": [
      "<class 'pandas.core.frame.DataFrame'>\n",
      "Int64Index: 338990 entries, 0 to 399999\n",
      "Data columns (total 24 columns):\n",
      " #   Column  Non-Null Count   Dtype  \n",
      "---  ------  --------------   -----  \n",
      " 0   X1      338990 non-null  float64\n",
      " 1   X2      338989 non-null  float64\n",
      " 2   X3      338989 non-null  float64\n",
      " 3   X4      338989 non-null  float64\n",
      " 4   X5      338989 non-null  float64\n",
      " 5   X6      338989 non-null  float64\n",
      " 6   X7      338990 non-null  float64\n",
      " 7   X8      338990 non-null  float64\n",
      " 8   X11     338990 non-null  int64  \n",
      " 9   X12     338990 non-null  float64\n",
      " 10  X13     338990 non-null  float64\n",
      " 11  X14     338990 non-null  float64\n",
      " 12  X15     338989 non-null  object \n",
      " 13  X20     338989 non-null  object \n",
      " 14  X21     338989 non-null  float64\n",
      " 15  X22     338989 non-null  float64\n",
      " 16  X23     338989 non-null  object \n",
      " 17  X24     338989 non-null  float64\n",
      " 18  X27     338989 non-null  float64\n",
      " 19  X28     338989 non-null  float64\n",
      " 20  X29     338989 non-null  float64\n",
      " 21  X30     338990 non-null  float64\n",
      " 22  X31     338989 non-null  float64\n",
      " 23  X32     338989 non-null  object \n",
      "dtypes: float64(19), int64(1), object(4)\n",
      "memory usage: 64.7+ MB\n"
     ]
    }
   ],
   "source": [
    "df.info()"
   ]
  },
  {
   "cell_type": "code",
   "execution_count": 45,
   "id": "61419311-2fe1-4a35-9c85-1d17d21e28ee",
   "metadata": {
    "tags": []
   },
   "outputs": [],
   "source": [
    "#encoding X20 (State)\n",
    "label_encoder = LabelEncoder()\n",
    "df['X20'] = label_encoder.fit_transform(df['X20'])"
   ]
  },
  {
   "cell_type": "code",
   "execution_count": 46,
   "id": "7705fc8e-503a-41ba-86e8-345b7f36b6d8",
   "metadata": {
    "tags": []
   },
   "outputs": [],
   "source": [
    "df['X20'] = df['X20'].astype(float)"
   ]
  },
  {
   "cell_type": "code",
   "execution_count": 47,
   "id": "dfc0c61a-0077-466e-b582-dffc82e3f23e",
   "metadata": {
    "tags": []
   },
   "outputs": [],
   "source": [
    "#encoding X32 (initial listing of the loan)\n",
    "label_encoder = LabelEncoder()\n",
    "df['X32'] = label_encoder.fit_transform(df['X32'])"
   ]
  },
  {
   "cell_type": "code",
   "execution_count": 48,
   "id": "8c51d7fc-f2de-4b45-8e58-f0253a1d338d",
   "metadata": {
    "tags": []
   },
   "outputs": [],
   "source": [
    "df['X32'] = df['X32'].astype(float)"
   ]
  },
  {
   "cell_type": "markdown",
   "id": "129c06a5-7eee-4adb-a542-bd88c3985d0b",
   "metadata": {},
   "source": [
    "# Handling X23- Date of borrowers last open credit line"
   ]
  },
  {
   "cell_type": "code",
   "execution_count": 49,
   "id": "38779b5e-f617-4cc5-9f8f-08dcefb06570",
   "metadata": {
    "tags": []
   },
   "outputs": [
    {
     "data": {
      "text/plain": [
       "0    Feb-94\n",
       "1    Oct-00\n",
       "2    Jun-00\n",
       "3    Jan-85\n",
       "4    Dec-96\n",
       "Name: X23, dtype: object"
      ]
     },
     "execution_count": 49,
     "metadata": {},
     "output_type": "execute_result"
    }
   ],
   "source": [
    "df['X23'].head()"
   ]
  },
  {
   "cell_type": "code",
   "execution_count": 50,
   "id": "1dce48b3-c498-47af-ad52-40a6d70c9acd",
   "metadata": {
    "tags": []
   },
   "outputs": [],
   "source": [
    "# dropping the month and making this just YYYY\n",
    "df['X23'] = pd.to_datetime(df['X23'], format='%b-%y')\n",
    "\n",
    "# Extract the year and converting it to float\n",
    "df['X23'] = df['X23'].dt.year.astype(float)\n"
   ]
  },
  {
   "cell_type": "code",
   "execution_count": 51,
   "id": "5b3f9241-0f0e-4edb-bf5e-5fe6c4a70706",
   "metadata": {
    "tags": []
   },
   "outputs": [
    {
     "data": {
      "text/plain": [
       "0    1994.0\n",
       "1    2000.0\n",
       "2    2000.0\n",
       "3    1985.0\n",
       "4    1996.0\n",
       "Name: X23, dtype: float64"
      ]
     },
     "execution_count": 51,
     "metadata": {},
     "output_type": "execute_result"
    }
   ],
   "source": [
    "df['X23'].head()"
   ]
  },
  {
   "cell_type": "markdown",
   "id": "b5723408-9f6c-4fa1-ad9c-381ed887a933",
   "metadata": {},
   "source": [
    "# Handling X15- Date Loan was Issued"
   ]
  },
  {
   "cell_type": "code",
   "execution_count": 52,
   "id": "fd658329-4282-48dc-a2c3-35a5e8b57c12",
   "metadata": {
    "tags": []
   },
   "outputs": [
    {
     "data": {
      "text/plain": [
       "0    Aug-09\n",
       "1    May-08\n",
       "2    Aug-14\n",
       "3    Mar-10\n",
       "4    Nov-09\n",
       "Name: X15, dtype: object"
      ]
     },
     "execution_count": 52,
     "metadata": {},
     "output_type": "execute_result"
    }
   ],
   "source": [
    "df['X15'].head()"
   ]
  },
  {
   "cell_type": "code",
   "execution_count": 53,
   "id": "587008d0-a612-4611-99b7-49475b2a5618",
   "metadata": {
    "tags": []
   },
   "outputs": [],
   "source": [
    "# dropping the month and making this just YYYY\n",
    "df['X15'] = pd.to_datetime(df['X15'], format='%b-%y')\n",
    "\n",
    "# Extract the year and converting it to float\n",
    "df['X15'] = df['X15'].dt.year.astype(float)\n"
   ]
  },
  {
   "cell_type": "code",
   "execution_count": 54,
   "id": "7b06899b-a33c-4491-8092-d9210c07de6c",
   "metadata": {
    "tags": []
   },
   "outputs": [
    {
     "data": {
      "text/plain": [
       "0    2009.0\n",
       "1    2008.0\n",
       "2    2014.0\n",
       "3    2010.0\n",
       "4    2009.0\n",
       "Name: X15, dtype: float64"
      ]
     },
     "execution_count": 54,
     "metadata": {},
     "output_type": "execute_result"
    }
   ],
   "source": [
    "df['X15'].head()"
   ]
  },
  {
   "cell_type": "code",
   "execution_count": 55,
   "id": "9fb5d0da-6c10-42c2-84b7-64516202a236",
   "metadata": {
    "tags": []
   },
   "outputs": [],
   "source": [
    "nan_count = df.isnull().sum()"
   ]
  },
  {
   "cell_type": "code",
   "execution_count": 56,
   "id": "267da983-ca9f-4e43-a27b-86f3c19362c4",
   "metadata": {
    "tags": []
   },
   "outputs": [
    {
     "name": "stdout",
     "output_type": "stream",
     "text": [
      "X1     0\n",
      "X2     1\n",
      "X3     1\n",
      "X4     1\n",
      "X5     1\n",
      "X6     1\n",
      "X7     0\n",
      "X8     0\n",
      "X11    0\n",
      "X12    0\n",
      "X13    0\n",
      "X14    0\n",
      "X15    1\n",
      "X20    0\n",
      "X21    1\n",
      "X22    1\n",
      "X23    1\n",
      "X24    1\n",
      "X27    1\n",
      "X28    1\n",
      "X29    1\n",
      "X30    0\n",
      "X31    1\n",
      "X32    0\n",
      "dtype: int64\n"
     ]
    }
   ],
   "source": [
    "print(nan_count)"
   ]
  },
  {
   "cell_type": "markdown",
   "id": "a7179133-1817-4d1b-a0eb-8e421e88f100",
   "metadata": {},
   "source": [
    "#Getting rid of leftover NaN values because the modeling does not work otherwise"
   ]
  },
  {
   "cell_type": "code",
   "execution_count": 57,
   "id": "3df9c9b5-3307-46fc-b6ec-712c21da9fc4",
   "metadata": {
    "tags": []
   },
   "outputs": [],
   "source": [
    "df.dropna(inplace = True)"
   ]
  },
  {
   "cell_type": "code",
   "execution_count": 58,
   "id": "e1e0ca94-5a6a-409e-8f04-e81595054081",
   "metadata": {
    "tags": []
   },
   "outputs": [
    {
     "name": "stdout",
     "output_type": "stream",
     "text": [
      "X1     0\n",
      "X2     1\n",
      "X3     1\n",
      "X4     1\n",
      "X5     1\n",
      "X6     1\n",
      "X7     0\n",
      "X8     0\n",
      "X11    0\n",
      "X12    0\n",
      "X13    0\n",
      "X14    0\n",
      "X15    1\n",
      "X20    0\n",
      "X21    1\n",
      "X22    1\n",
      "X23    1\n",
      "X24    1\n",
      "X27    1\n",
      "X28    1\n",
      "X29    1\n",
      "X30    0\n",
      "X31    1\n",
      "X32    0\n",
      "dtype: int64\n"
     ]
    }
   ],
   "source": [
    "print(nan_count)"
   ]
  },
  {
   "cell_type": "code",
   "execution_count": 59,
   "id": "e3f33bfd-f213-4dd5-b826-13b584ba092d",
   "metadata": {
    "tags": []
   },
   "outputs": [],
   "source": [
    "# dropping the Date X15\n",
    "df = df.drop(['X15'], axis=1)"
   ]
  },
  {
   "cell_type": "code",
   "execution_count": 60,
   "id": "44211d29-4f85-4cef-a50d-7c57c3c507ab",
   "metadata": {
    "tags": []
   },
   "outputs": [],
   "source": [
    "# dropping the Date X23\n",
    "df = df.drop(['X23'], axis=1)"
   ]
  },
  {
   "cell_type": "markdown",
   "id": "fd7be211-26bb-4b9f-84e9-97c661bb78d1",
   "metadata": {},
   "source": [
    "# Attempting to build Models for Loan Data"
   ]
  },
  {
   "cell_type": "code",
   "execution_count": 61,
   "id": "b43506c0-e735-411f-a05c-fa37bedf0ae0",
   "metadata": {
    "tags": []
   },
   "outputs": [],
   "source": [
    "#Taking out the X1 column which is the interest rate of the loan because that will be predicted with the model\n",
    "X, y = df.drop(\"X1\", axis=1), df[\"X1\"]"
   ]
  },
  {
   "cell_type": "code",
   "execution_count": 62,
   "id": "4c0f4c8a-e874-490b-bc47-8544505a6746",
   "metadata": {
    "tags": []
   },
   "outputs": [],
   "source": [
    "from sklearn.preprocessing import StandardScaler\n",
    "scaler = StandardScaler()\n",
    "X = scaler.fit_transform(X)"
   ]
  },
  {
   "cell_type": "code",
   "execution_count": 63,
   "id": "6fe861e2-5885-4b12-aa45-2eaff0726089",
   "metadata": {
    "tags": []
   },
   "outputs": [],
   "source": [
    "train_X, test_X, train_y, test_y = train_test_split(X, y, train_size=0.8, test_size=0.2, random_state=42)"
   ]
  },
  {
   "cell_type": "code",
   "execution_count": 64,
   "id": "23e3c3dc-7d0f-49d7-8d15-a80d13aeac51",
   "metadata": {
    "tags": []
   },
   "outputs": [],
   "source": [
    "def model_regression(model):\n",
    "    regressor = model()\n",
    "    regressor.fit(train_X, train_y)\n",
    "\n",
    "    predictions = regressor.predict(test_X)\n",
    "\n",
    "\n",
    "    mse = mean_squared_error(test_y, predictions)\n",
    "    rmse = np.sqrt(mse)\n",
    "\n",
    "    print(\"Root Mean Squared Error:\", rmse)\n",
    "    \n",
    "    return regressor"
   ]
  },
  {
   "cell_type": "code",
   "execution_count": 65,
   "id": "75acc5c8-0434-4fd3-a82a-dd68ff52b7da",
   "metadata": {
    "tags": []
   },
   "outputs": [
    {
     "name": "stdout",
     "output_type": "stream",
     "text": [
      "Root Mean Squared Error: 2.095765728958795\n"
     ]
    },
    {
     "data": {
      "text/html": [
       "<style>#sk-container-id-1 {color: black;}#sk-container-id-1 pre{padding: 0;}#sk-container-id-1 div.sk-toggleable {background-color: white;}#sk-container-id-1 label.sk-toggleable__label {cursor: pointer;display: block;width: 100%;margin-bottom: 0;padding: 0.3em;box-sizing: border-box;text-align: center;}#sk-container-id-1 label.sk-toggleable__label-arrow:before {content: \"▸\";float: left;margin-right: 0.25em;color: #696969;}#sk-container-id-1 label.sk-toggleable__label-arrow:hover:before {color: black;}#sk-container-id-1 div.sk-estimator:hover label.sk-toggleable__label-arrow:before {color: black;}#sk-container-id-1 div.sk-toggleable__content {max-height: 0;max-width: 0;overflow: hidden;text-align: left;background-color: #f0f8ff;}#sk-container-id-1 div.sk-toggleable__content pre {margin: 0.2em;color: black;border-radius: 0.25em;background-color: #f0f8ff;}#sk-container-id-1 input.sk-toggleable__control:checked~div.sk-toggleable__content {max-height: 200px;max-width: 100%;overflow: auto;}#sk-container-id-1 input.sk-toggleable__control:checked~label.sk-toggleable__label-arrow:before {content: \"▾\";}#sk-container-id-1 div.sk-estimator input.sk-toggleable__control:checked~label.sk-toggleable__label {background-color: #d4ebff;}#sk-container-id-1 div.sk-label input.sk-toggleable__control:checked~label.sk-toggleable__label {background-color: #d4ebff;}#sk-container-id-1 input.sk-hidden--visually {border: 0;clip: rect(1px 1px 1px 1px);clip: rect(1px, 1px, 1px, 1px);height: 1px;margin: -1px;overflow: hidden;padding: 0;position: absolute;width: 1px;}#sk-container-id-1 div.sk-estimator {font-family: monospace;background-color: #f0f8ff;border: 1px dotted black;border-radius: 0.25em;box-sizing: border-box;margin-bottom: 0.5em;}#sk-container-id-1 div.sk-estimator:hover {background-color: #d4ebff;}#sk-container-id-1 div.sk-parallel-item::after {content: \"\";width: 100%;border-bottom: 1px solid gray;flex-grow: 1;}#sk-container-id-1 div.sk-label:hover label.sk-toggleable__label {background-color: #d4ebff;}#sk-container-id-1 div.sk-serial::before {content: \"\";position: absolute;border-left: 1px solid gray;box-sizing: border-box;top: 0;bottom: 0;left: 50%;z-index: 0;}#sk-container-id-1 div.sk-serial {display: flex;flex-direction: column;align-items: center;background-color: white;padding-right: 0.2em;padding-left: 0.2em;position: relative;}#sk-container-id-1 div.sk-item {position: relative;z-index: 1;}#sk-container-id-1 div.sk-parallel {display: flex;align-items: stretch;justify-content: center;background-color: white;position: relative;}#sk-container-id-1 div.sk-item::before, #sk-container-id-1 div.sk-parallel-item::before {content: \"\";position: absolute;border-left: 1px solid gray;box-sizing: border-box;top: 0;bottom: 0;left: 50%;z-index: -1;}#sk-container-id-1 div.sk-parallel-item {display: flex;flex-direction: column;z-index: 1;position: relative;background-color: white;}#sk-container-id-1 div.sk-parallel-item:first-child::after {align-self: flex-end;width: 50%;}#sk-container-id-1 div.sk-parallel-item:last-child::after {align-self: flex-start;width: 50%;}#sk-container-id-1 div.sk-parallel-item:only-child::after {width: 0;}#sk-container-id-1 div.sk-dashed-wrapped {border: 1px dashed gray;margin: 0 0.4em 0.5em 0.4em;box-sizing: border-box;padding-bottom: 0.4em;background-color: white;}#sk-container-id-1 div.sk-label label {font-family: monospace;font-weight: bold;display: inline-block;line-height: 1.2em;}#sk-container-id-1 div.sk-label-container {text-align: center;}#sk-container-id-1 div.sk-container {/* jupyter's `normalize.less` sets `[hidden] { display: none; }` but bootstrap.min.css set `[hidden] { display: none !important; }` so we also need the `!important` here to be able to override the default hidden behavior on the sphinx rendered scikit-learn.org. See: https://github.com/scikit-learn/scikit-learn/issues/21755 */display: inline-block !important;position: relative;}#sk-container-id-1 div.sk-text-repr-fallback {display: none;}</style><div id=\"sk-container-id-1\" class=\"sk-top-container\"><div class=\"sk-text-repr-fallback\"><pre>DecisionTreeRegressor()</pre><b>In a Jupyter environment, please rerun this cell to show the HTML representation or trust the notebook. <br />On GitHub, the HTML representation is unable to render, please try loading this page with nbviewer.org.</b></div><div class=\"sk-container\" hidden><div class=\"sk-item\"><div class=\"sk-estimator sk-toggleable\"><input class=\"sk-toggleable__control sk-hidden--visually\" id=\"sk-estimator-id-1\" type=\"checkbox\" checked><label for=\"sk-estimator-id-1\" class=\"sk-toggleable__label sk-toggleable__label-arrow\">DecisionTreeRegressor</label><div class=\"sk-toggleable__content\"><pre>DecisionTreeRegressor()</pre></div></div></div></div></div>"
      ],
      "text/plain": [
       "DecisionTreeRegressor()"
      ]
     },
     "execution_count": 65,
     "metadata": {},
     "output_type": "execute_result"
    }
   ],
   "source": [
    "model_regression(DecisionTreeRegressor)"
   ]
  },
  {
   "cell_type": "code",
   "execution_count": 66,
   "id": "4423f6d6-0251-4b5d-b6fc-2c5e0e6905d6",
   "metadata": {
    "tags": []
   },
   "outputs": [
    {
     "name": "stdout",
     "output_type": "stream",
     "text": [
      "Root Mean Squared Error: 1.4602610817439305\n"
     ]
    },
    {
     "data": {
      "text/html": [
       "<style>#sk-container-id-2 {color: black;}#sk-container-id-2 pre{padding: 0;}#sk-container-id-2 div.sk-toggleable {background-color: white;}#sk-container-id-2 label.sk-toggleable__label {cursor: pointer;display: block;width: 100%;margin-bottom: 0;padding: 0.3em;box-sizing: border-box;text-align: center;}#sk-container-id-2 label.sk-toggleable__label-arrow:before {content: \"▸\";float: left;margin-right: 0.25em;color: #696969;}#sk-container-id-2 label.sk-toggleable__label-arrow:hover:before {color: black;}#sk-container-id-2 div.sk-estimator:hover label.sk-toggleable__label-arrow:before {color: black;}#sk-container-id-2 div.sk-toggleable__content {max-height: 0;max-width: 0;overflow: hidden;text-align: left;background-color: #f0f8ff;}#sk-container-id-2 div.sk-toggleable__content pre {margin: 0.2em;color: black;border-radius: 0.25em;background-color: #f0f8ff;}#sk-container-id-2 input.sk-toggleable__control:checked~div.sk-toggleable__content {max-height: 200px;max-width: 100%;overflow: auto;}#sk-container-id-2 input.sk-toggleable__control:checked~label.sk-toggleable__label-arrow:before {content: \"▾\";}#sk-container-id-2 div.sk-estimator input.sk-toggleable__control:checked~label.sk-toggleable__label {background-color: #d4ebff;}#sk-container-id-2 div.sk-label input.sk-toggleable__control:checked~label.sk-toggleable__label {background-color: #d4ebff;}#sk-container-id-2 input.sk-hidden--visually {border: 0;clip: rect(1px 1px 1px 1px);clip: rect(1px, 1px, 1px, 1px);height: 1px;margin: -1px;overflow: hidden;padding: 0;position: absolute;width: 1px;}#sk-container-id-2 div.sk-estimator {font-family: monospace;background-color: #f0f8ff;border: 1px dotted black;border-radius: 0.25em;box-sizing: border-box;margin-bottom: 0.5em;}#sk-container-id-2 div.sk-estimator:hover {background-color: #d4ebff;}#sk-container-id-2 div.sk-parallel-item::after {content: \"\";width: 100%;border-bottom: 1px solid gray;flex-grow: 1;}#sk-container-id-2 div.sk-label:hover label.sk-toggleable__label {background-color: #d4ebff;}#sk-container-id-2 div.sk-serial::before {content: \"\";position: absolute;border-left: 1px solid gray;box-sizing: border-box;top: 0;bottom: 0;left: 50%;z-index: 0;}#sk-container-id-2 div.sk-serial {display: flex;flex-direction: column;align-items: center;background-color: white;padding-right: 0.2em;padding-left: 0.2em;position: relative;}#sk-container-id-2 div.sk-item {position: relative;z-index: 1;}#sk-container-id-2 div.sk-parallel {display: flex;align-items: stretch;justify-content: center;background-color: white;position: relative;}#sk-container-id-2 div.sk-item::before, #sk-container-id-2 div.sk-parallel-item::before {content: \"\";position: absolute;border-left: 1px solid gray;box-sizing: border-box;top: 0;bottom: 0;left: 50%;z-index: -1;}#sk-container-id-2 div.sk-parallel-item {display: flex;flex-direction: column;z-index: 1;position: relative;background-color: white;}#sk-container-id-2 div.sk-parallel-item:first-child::after {align-self: flex-end;width: 50%;}#sk-container-id-2 div.sk-parallel-item:last-child::after {align-self: flex-start;width: 50%;}#sk-container-id-2 div.sk-parallel-item:only-child::after {width: 0;}#sk-container-id-2 div.sk-dashed-wrapped {border: 1px dashed gray;margin: 0 0.4em 0.5em 0.4em;box-sizing: border-box;padding-bottom: 0.4em;background-color: white;}#sk-container-id-2 div.sk-label label {font-family: monospace;font-weight: bold;display: inline-block;line-height: 1.2em;}#sk-container-id-2 div.sk-label-container {text-align: center;}#sk-container-id-2 div.sk-container {/* jupyter's `normalize.less` sets `[hidden] { display: none; }` but bootstrap.min.css set `[hidden] { display: none !important; }` so we also need the `!important` here to be able to override the default hidden behavior on the sphinx rendered scikit-learn.org. See: https://github.com/scikit-learn/scikit-learn/issues/21755 */display: inline-block !important;position: relative;}#sk-container-id-2 div.sk-text-repr-fallback {display: none;}</style><div id=\"sk-container-id-2\" class=\"sk-top-container\"><div class=\"sk-text-repr-fallback\"><pre>RandomForestRegressor()</pre><b>In a Jupyter environment, please rerun this cell to show the HTML representation or trust the notebook. <br />On GitHub, the HTML representation is unable to render, please try loading this page with nbviewer.org.</b></div><div class=\"sk-container\" hidden><div class=\"sk-item\"><div class=\"sk-estimator sk-toggleable\"><input class=\"sk-toggleable__control sk-hidden--visually\" id=\"sk-estimator-id-2\" type=\"checkbox\" checked><label for=\"sk-estimator-id-2\" class=\"sk-toggleable__label sk-toggleable__label-arrow\">RandomForestRegressor</label><div class=\"sk-toggleable__content\"><pre>RandomForestRegressor()</pre></div></div></div></div></div>"
      ],
      "text/plain": [
       "RandomForestRegressor()"
      ]
     },
     "execution_count": 66,
     "metadata": {},
     "output_type": "execute_result"
    }
   ],
   "source": [
    "model_regression(RandomForestRegressor)"
   ]
  },
  {
   "cell_type": "code",
   "execution_count": 67,
   "id": "edf45ede-a7a4-4a04-b1f7-d15072b53119",
   "metadata": {
    "tags": []
   },
   "outputs": [
    {
     "name": "stdout",
     "output_type": "stream",
     "text": [
      "Root Mean Squared Error: 1.5627410814352312\n"
     ]
    },
    {
     "data": {
      "text/html": [
       "<style>#sk-container-id-3 {color: black;}#sk-container-id-3 pre{padding: 0;}#sk-container-id-3 div.sk-toggleable {background-color: white;}#sk-container-id-3 label.sk-toggleable__label {cursor: pointer;display: block;width: 100%;margin-bottom: 0;padding: 0.3em;box-sizing: border-box;text-align: center;}#sk-container-id-3 label.sk-toggleable__label-arrow:before {content: \"▸\";float: left;margin-right: 0.25em;color: #696969;}#sk-container-id-3 label.sk-toggleable__label-arrow:hover:before {color: black;}#sk-container-id-3 div.sk-estimator:hover label.sk-toggleable__label-arrow:before {color: black;}#sk-container-id-3 div.sk-toggleable__content {max-height: 0;max-width: 0;overflow: hidden;text-align: left;background-color: #f0f8ff;}#sk-container-id-3 div.sk-toggleable__content pre {margin: 0.2em;color: black;border-radius: 0.25em;background-color: #f0f8ff;}#sk-container-id-3 input.sk-toggleable__control:checked~div.sk-toggleable__content {max-height: 200px;max-width: 100%;overflow: auto;}#sk-container-id-3 input.sk-toggleable__control:checked~label.sk-toggleable__label-arrow:before {content: \"▾\";}#sk-container-id-3 div.sk-estimator input.sk-toggleable__control:checked~label.sk-toggleable__label {background-color: #d4ebff;}#sk-container-id-3 div.sk-label input.sk-toggleable__control:checked~label.sk-toggleable__label {background-color: #d4ebff;}#sk-container-id-3 input.sk-hidden--visually {border: 0;clip: rect(1px 1px 1px 1px);clip: rect(1px, 1px, 1px, 1px);height: 1px;margin: -1px;overflow: hidden;padding: 0;position: absolute;width: 1px;}#sk-container-id-3 div.sk-estimator {font-family: monospace;background-color: #f0f8ff;border: 1px dotted black;border-radius: 0.25em;box-sizing: border-box;margin-bottom: 0.5em;}#sk-container-id-3 div.sk-estimator:hover {background-color: #d4ebff;}#sk-container-id-3 div.sk-parallel-item::after {content: \"\";width: 100%;border-bottom: 1px solid gray;flex-grow: 1;}#sk-container-id-3 div.sk-label:hover label.sk-toggleable__label {background-color: #d4ebff;}#sk-container-id-3 div.sk-serial::before {content: \"\";position: absolute;border-left: 1px solid gray;box-sizing: border-box;top: 0;bottom: 0;left: 50%;z-index: 0;}#sk-container-id-3 div.sk-serial {display: flex;flex-direction: column;align-items: center;background-color: white;padding-right: 0.2em;padding-left: 0.2em;position: relative;}#sk-container-id-3 div.sk-item {position: relative;z-index: 1;}#sk-container-id-3 div.sk-parallel {display: flex;align-items: stretch;justify-content: center;background-color: white;position: relative;}#sk-container-id-3 div.sk-item::before, #sk-container-id-3 div.sk-parallel-item::before {content: \"\";position: absolute;border-left: 1px solid gray;box-sizing: border-box;top: 0;bottom: 0;left: 50%;z-index: -1;}#sk-container-id-3 div.sk-parallel-item {display: flex;flex-direction: column;z-index: 1;position: relative;background-color: white;}#sk-container-id-3 div.sk-parallel-item:first-child::after {align-self: flex-end;width: 50%;}#sk-container-id-3 div.sk-parallel-item:last-child::after {align-self: flex-start;width: 50%;}#sk-container-id-3 div.sk-parallel-item:only-child::after {width: 0;}#sk-container-id-3 div.sk-dashed-wrapped {border: 1px dashed gray;margin: 0 0.4em 0.5em 0.4em;box-sizing: border-box;padding-bottom: 0.4em;background-color: white;}#sk-container-id-3 div.sk-label label {font-family: monospace;font-weight: bold;display: inline-block;line-height: 1.2em;}#sk-container-id-3 div.sk-label-container {text-align: center;}#sk-container-id-3 div.sk-container {/* jupyter's `normalize.less` sets `[hidden] { display: none; }` but bootstrap.min.css set `[hidden] { display: none !important; }` so we also need the `!important` here to be able to override the default hidden behavior on the sphinx rendered scikit-learn.org. See: https://github.com/scikit-learn/scikit-learn/issues/21755 */display: inline-block !important;position: relative;}#sk-container-id-3 div.sk-text-repr-fallback {display: none;}</style><div id=\"sk-container-id-3\" class=\"sk-top-container\"><div class=\"sk-text-repr-fallback\"><pre>GradientBoostingRegressor()</pre><b>In a Jupyter environment, please rerun this cell to show the HTML representation or trust the notebook. <br />On GitHub, the HTML representation is unable to render, please try loading this page with nbviewer.org.</b></div><div class=\"sk-container\" hidden><div class=\"sk-item\"><div class=\"sk-estimator sk-toggleable\"><input class=\"sk-toggleable__control sk-hidden--visually\" id=\"sk-estimator-id-3\" type=\"checkbox\" checked><label for=\"sk-estimator-id-3\" class=\"sk-toggleable__label sk-toggleable__label-arrow\">GradientBoostingRegressor</label><div class=\"sk-toggleable__content\"><pre>GradientBoostingRegressor()</pre></div></div></div></div></div>"
      ],
      "text/plain": [
       "GradientBoostingRegressor()"
      ]
     },
     "execution_count": 67,
     "metadata": {},
     "output_type": "execute_result"
    }
   ],
   "source": [
    "model_regression(GradientBoostingRegressor)"
   ]
  },
  {
   "cell_type": "code",
   "execution_count": 68,
   "id": "23d41752-24d9-4ff0-986c-a98535398ecb",
   "metadata": {
    "tags": []
   },
   "outputs": [
    {
     "name": "stdout",
     "output_type": "stream",
     "text": [
      "Root Mean Squared Error: 2.584505307221964\n"
     ]
    },
    {
     "data": {
      "text/html": [
       "<style>#sk-container-id-4 {color: black;}#sk-container-id-4 pre{padding: 0;}#sk-container-id-4 div.sk-toggleable {background-color: white;}#sk-container-id-4 label.sk-toggleable__label {cursor: pointer;display: block;width: 100%;margin-bottom: 0;padding: 0.3em;box-sizing: border-box;text-align: center;}#sk-container-id-4 label.sk-toggleable__label-arrow:before {content: \"▸\";float: left;margin-right: 0.25em;color: #696969;}#sk-container-id-4 label.sk-toggleable__label-arrow:hover:before {color: black;}#sk-container-id-4 div.sk-estimator:hover label.sk-toggleable__label-arrow:before {color: black;}#sk-container-id-4 div.sk-toggleable__content {max-height: 0;max-width: 0;overflow: hidden;text-align: left;background-color: #f0f8ff;}#sk-container-id-4 div.sk-toggleable__content pre {margin: 0.2em;color: black;border-radius: 0.25em;background-color: #f0f8ff;}#sk-container-id-4 input.sk-toggleable__control:checked~div.sk-toggleable__content {max-height: 200px;max-width: 100%;overflow: auto;}#sk-container-id-4 input.sk-toggleable__control:checked~label.sk-toggleable__label-arrow:before {content: \"▾\";}#sk-container-id-4 div.sk-estimator input.sk-toggleable__control:checked~label.sk-toggleable__label {background-color: #d4ebff;}#sk-container-id-4 div.sk-label input.sk-toggleable__control:checked~label.sk-toggleable__label {background-color: #d4ebff;}#sk-container-id-4 input.sk-hidden--visually {border: 0;clip: rect(1px 1px 1px 1px);clip: rect(1px, 1px, 1px, 1px);height: 1px;margin: -1px;overflow: hidden;padding: 0;position: absolute;width: 1px;}#sk-container-id-4 div.sk-estimator {font-family: monospace;background-color: #f0f8ff;border: 1px dotted black;border-radius: 0.25em;box-sizing: border-box;margin-bottom: 0.5em;}#sk-container-id-4 div.sk-estimator:hover {background-color: #d4ebff;}#sk-container-id-4 div.sk-parallel-item::after {content: \"\";width: 100%;border-bottom: 1px solid gray;flex-grow: 1;}#sk-container-id-4 div.sk-label:hover label.sk-toggleable__label {background-color: #d4ebff;}#sk-container-id-4 div.sk-serial::before {content: \"\";position: absolute;border-left: 1px solid gray;box-sizing: border-box;top: 0;bottom: 0;left: 50%;z-index: 0;}#sk-container-id-4 div.sk-serial {display: flex;flex-direction: column;align-items: center;background-color: white;padding-right: 0.2em;padding-left: 0.2em;position: relative;}#sk-container-id-4 div.sk-item {position: relative;z-index: 1;}#sk-container-id-4 div.sk-parallel {display: flex;align-items: stretch;justify-content: center;background-color: white;position: relative;}#sk-container-id-4 div.sk-item::before, #sk-container-id-4 div.sk-parallel-item::before {content: \"\";position: absolute;border-left: 1px solid gray;box-sizing: border-box;top: 0;bottom: 0;left: 50%;z-index: -1;}#sk-container-id-4 div.sk-parallel-item {display: flex;flex-direction: column;z-index: 1;position: relative;background-color: white;}#sk-container-id-4 div.sk-parallel-item:first-child::after {align-self: flex-end;width: 50%;}#sk-container-id-4 div.sk-parallel-item:last-child::after {align-self: flex-start;width: 50%;}#sk-container-id-4 div.sk-parallel-item:only-child::after {width: 0;}#sk-container-id-4 div.sk-dashed-wrapped {border: 1px dashed gray;margin: 0 0.4em 0.5em 0.4em;box-sizing: border-box;padding-bottom: 0.4em;background-color: white;}#sk-container-id-4 div.sk-label label {font-family: monospace;font-weight: bold;display: inline-block;line-height: 1.2em;}#sk-container-id-4 div.sk-label-container {text-align: center;}#sk-container-id-4 div.sk-container {/* jupyter's `normalize.less` sets `[hidden] { display: none; }` but bootstrap.min.css set `[hidden] { display: none !important; }` so we also need the `!important` here to be able to override the default hidden behavior on the sphinx rendered scikit-learn.org. See: https://github.com/scikit-learn/scikit-learn/issues/21755 */display: inline-block !important;position: relative;}#sk-container-id-4 div.sk-text-repr-fallback {display: none;}</style><div id=\"sk-container-id-4\" class=\"sk-top-container\"><div class=\"sk-text-repr-fallback\"><pre>KNeighborsRegressor()</pre><b>In a Jupyter environment, please rerun this cell to show the HTML representation or trust the notebook. <br />On GitHub, the HTML representation is unable to render, please try loading this page with nbviewer.org.</b></div><div class=\"sk-container\" hidden><div class=\"sk-item\"><div class=\"sk-estimator sk-toggleable\"><input class=\"sk-toggleable__control sk-hidden--visually\" id=\"sk-estimator-id-4\" type=\"checkbox\" checked><label for=\"sk-estimator-id-4\" class=\"sk-toggleable__label sk-toggleable__label-arrow\">KNeighborsRegressor</label><div class=\"sk-toggleable__content\"><pre>KNeighborsRegressor()</pre></div></div></div></div></div>"
      ],
      "text/plain": [
       "KNeighborsRegressor()"
      ]
     },
     "execution_count": 68,
     "metadata": {},
     "output_type": "execute_result"
    }
   ],
   "source": [
    "model_regression(KNeighborsRegressor)"
   ]
  },
  {
   "cell_type": "code",
   "execution_count": 69,
   "id": "bf834eb7-e8bb-4d3c-8a03-3acc9bcc38ce",
   "metadata": {
    "tags": []
   },
   "outputs": [
    {
     "name": "stdout",
     "output_type": "stream",
     "text": [
      "Root Mean Squared Error: 3.1049583209716687\n"
     ]
    },
    {
     "data": {
      "text/html": [
       "<style>#sk-container-id-5 {color: black;}#sk-container-id-5 pre{padding: 0;}#sk-container-id-5 div.sk-toggleable {background-color: white;}#sk-container-id-5 label.sk-toggleable__label {cursor: pointer;display: block;width: 100%;margin-bottom: 0;padding: 0.3em;box-sizing: border-box;text-align: center;}#sk-container-id-5 label.sk-toggleable__label-arrow:before {content: \"▸\";float: left;margin-right: 0.25em;color: #696969;}#sk-container-id-5 label.sk-toggleable__label-arrow:hover:before {color: black;}#sk-container-id-5 div.sk-estimator:hover label.sk-toggleable__label-arrow:before {color: black;}#sk-container-id-5 div.sk-toggleable__content {max-height: 0;max-width: 0;overflow: hidden;text-align: left;background-color: #f0f8ff;}#sk-container-id-5 div.sk-toggleable__content pre {margin: 0.2em;color: black;border-radius: 0.25em;background-color: #f0f8ff;}#sk-container-id-5 input.sk-toggleable__control:checked~div.sk-toggleable__content {max-height: 200px;max-width: 100%;overflow: auto;}#sk-container-id-5 input.sk-toggleable__control:checked~label.sk-toggleable__label-arrow:before {content: \"▾\";}#sk-container-id-5 div.sk-estimator input.sk-toggleable__control:checked~label.sk-toggleable__label {background-color: #d4ebff;}#sk-container-id-5 div.sk-label input.sk-toggleable__control:checked~label.sk-toggleable__label {background-color: #d4ebff;}#sk-container-id-5 input.sk-hidden--visually {border: 0;clip: rect(1px 1px 1px 1px);clip: rect(1px, 1px, 1px, 1px);height: 1px;margin: -1px;overflow: hidden;padding: 0;position: absolute;width: 1px;}#sk-container-id-5 div.sk-estimator {font-family: monospace;background-color: #f0f8ff;border: 1px dotted black;border-radius: 0.25em;box-sizing: border-box;margin-bottom: 0.5em;}#sk-container-id-5 div.sk-estimator:hover {background-color: #d4ebff;}#sk-container-id-5 div.sk-parallel-item::after {content: \"\";width: 100%;border-bottom: 1px solid gray;flex-grow: 1;}#sk-container-id-5 div.sk-label:hover label.sk-toggleable__label {background-color: #d4ebff;}#sk-container-id-5 div.sk-serial::before {content: \"\";position: absolute;border-left: 1px solid gray;box-sizing: border-box;top: 0;bottom: 0;left: 50%;z-index: 0;}#sk-container-id-5 div.sk-serial {display: flex;flex-direction: column;align-items: center;background-color: white;padding-right: 0.2em;padding-left: 0.2em;position: relative;}#sk-container-id-5 div.sk-item {position: relative;z-index: 1;}#sk-container-id-5 div.sk-parallel {display: flex;align-items: stretch;justify-content: center;background-color: white;position: relative;}#sk-container-id-5 div.sk-item::before, #sk-container-id-5 div.sk-parallel-item::before {content: \"\";position: absolute;border-left: 1px solid gray;box-sizing: border-box;top: 0;bottom: 0;left: 50%;z-index: -1;}#sk-container-id-5 div.sk-parallel-item {display: flex;flex-direction: column;z-index: 1;position: relative;background-color: white;}#sk-container-id-5 div.sk-parallel-item:first-child::after {align-self: flex-end;width: 50%;}#sk-container-id-5 div.sk-parallel-item:last-child::after {align-self: flex-start;width: 50%;}#sk-container-id-5 div.sk-parallel-item:only-child::after {width: 0;}#sk-container-id-5 div.sk-dashed-wrapped {border: 1px dashed gray;margin: 0 0.4em 0.5em 0.4em;box-sizing: border-box;padding-bottom: 0.4em;background-color: white;}#sk-container-id-5 div.sk-label label {font-family: monospace;font-weight: bold;display: inline-block;line-height: 1.2em;}#sk-container-id-5 div.sk-label-container {text-align: center;}#sk-container-id-5 div.sk-container {/* jupyter's `normalize.less` sets `[hidden] { display: none; }` but bootstrap.min.css set `[hidden] { display: none !important; }` so we also need the `!important` here to be able to override the default hidden behavior on the sphinx rendered scikit-learn.org. See: https://github.com/scikit-learn/scikit-learn/issues/21755 */display: inline-block !important;position: relative;}#sk-container-id-5 div.sk-text-repr-fallback {display: none;}</style><div id=\"sk-container-id-5\" class=\"sk-top-container\"><div class=\"sk-text-repr-fallback\"><pre>LinearRegression()</pre><b>In a Jupyter environment, please rerun this cell to show the HTML representation or trust the notebook. <br />On GitHub, the HTML representation is unable to render, please try loading this page with nbviewer.org.</b></div><div class=\"sk-container\" hidden><div class=\"sk-item\"><div class=\"sk-estimator sk-toggleable\"><input class=\"sk-toggleable__control sk-hidden--visually\" id=\"sk-estimator-id-5\" type=\"checkbox\" checked><label for=\"sk-estimator-id-5\" class=\"sk-toggleable__label sk-toggleable__label-arrow\">LinearRegression</label><div class=\"sk-toggleable__content\"><pre>LinearRegression()</pre></div></div></div></div></div>"
      ],
      "text/plain": [
       "LinearRegression()"
      ]
     },
     "execution_count": 69,
     "metadata": {},
     "output_type": "execute_result"
    }
   ],
   "source": [
    "model_regression(LinearRegression)"
   ]
  },
  {
   "cell_type": "markdown",
   "id": "9a86acf1-361b-4418-bd45-a6b6198a154b",
   "metadata": {},
   "source": [
    "Based on the above models, I will be using Random Forest for the test data"
   ]
  },
  {
   "cell_type": "markdown",
   "id": "5e2bb0c1-a4ea-4121-be47-99c6254b9a44",
   "metadata": {},
   "source": [
    "# Testing Models using HoldoutCSV"
   ]
  },
  {
   "cell_type": "code",
   "execution_count": 70,
   "id": "3a39a92a-bfb4-4ee5-a323-763eb0db8b09",
   "metadata": {
    "tags": []
   },
   "outputs": [],
   "source": [
    "df_test = pd.read_csv('/Users/ElenaGualda_1/Desktop/Winter 2024/Data Mining/Assignment 3/Assignment-03-2024/Loan_Prediction/Holdout for Testing.csv')"
   ]
  },
  {
   "cell_type": "code",
   "execution_count": 71,
   "id": "4120e161-b09a-4fef-b998-0644793b436d",
   "metadata": {
    "tags": []
   },
   "outputs": [
    {
     "data": {
      "text/html": [
       "<div>\n",
       "<style scoped>\n",
       "    .dataframe tbody tr th:only-of-type {\n",
       "        vertical-align: middle;\n",
       "    }\n",
       "\n",
       "    .dataframe tbody tr th {\n",
       "        vertical-align: top;\n",
       "    }\n",
       "\n",
       "    .dataframe thead th {\n",
       "        text-align: right;\n",
       "    }\n",
       "</style>\n",
       "<table border=\"1\" class=\"dataframe\">\n",
       "  <thead>\n",
       "    <tr style=\"text-align: right;\">\n",
       "      <th></th>\n",
       "      <th>X1</th>\n",
       "      <th>X2</th>\n",
       "      <th>X3</th>\n",
       "      <th>X4</th>\n",
       "      <th>X5</th>\n",
       "      <th>X6</th>\n",
       "      <th>X7</th>\n",
       "      <th>X8</th>\n",
       "      <th>X9</th>\n",
       "      <th>X10</th>\n",
       "      <th>...</th>\n",
       "      <th>X23</th>\n",
       "      <th>X24</th>\n",
       "      <th>X25</th>\n",
       "      <th>X26</th>\n",
       "      <th>X27</th>\n",
       "      <th>X28</th>\n",
       "      <th>X29</th>\n",
       "      <th>X30</th>\n",
       "      <th>X31</th>\n",
       "      <th>X32</th>\n",
       "    </tr>\n",
       "  </thead>\n",
       "  <tbody>\n",
       "    <tr>\n",
       "      <th>0</th>\n",
       "      <td>NaN</td>\n",
       "      <td>44409194</td>\n",
       "      <td>47416907</td>\n",
       "      <td>$6,000</td>\n",
       "      <td>$6,000</td>\n",
       "      <td>$6,000</td>\n",
       "      <td>36 months</td>\n",
       "      <td>C</td>\n",
       "      <td>C5</td>\n",
       "      <td>Electrician</td>\n",
       "      <td>...</td>\n",
       "      <td>2-Nov</td>\n",
       "      <td>1</td>\n",
       "      <td>26.0</td>\n",
       "      <td>NaN</td>\n",
       "      <td>18</td>\n",
       "      <td>0</td>\n",
       "      <td>19861</td>\n",
       "      <td>64.50%</td>\n",
       "      <td>33</td>\n",
       "      <td>f</td>\n",
       "    </tr>\n",
       "    <tr>\n",
       "      <th>1</th>\n",
       "      <td>NaN</td>\n",
       "      <td>44017917</td>\n",
       "      <td>47034722</td>\n",
       "      <td>$24,000</td>\n",
       "      <td>$24,000</td>\n",
       "      <td>$24,000</td>\n",
       "      <td>36 months</td>\n",
       "      <td>A</td>\n",
       "      <td>A1</td>\n",
       "      <td>Executive Assistant</td>\n",
       "      <td>...</td>\n",
       "      <td>Dec-68</td>\n",
       "      <td>1</td>\n",
       "      <td>NaN</td>\n",
       "      <td>NaN</td>\n",
       "      <td>12</td>\n",
       "      <td>0</td>\n",
       "      <td>17001</td>\n",
       "      <td>26.20%</td>\n",
       "      <td>36</td>\n",
       "      <td>w</td>\n",
       "    </tr>\n",
       "    <tr>\n",
       "      <th>2</th>\n",
       "      <td>NaN</td>\n",
       "      <td>44259158</td>\n",
       "      <td>47306871</td>\n",
       "      <td>$35,000</td>\n",
       "      <td>$35,000</td>\n",
       "      <td>$35,000</td>\n",
       "      <td>36 months</td>\n",
       "      <td>C</td>\n",
       "      <td>C2</td>\n",
       "      <td>District Sales Leader</td>\n",
       "      <td>...</td>\n",
       "      <td>Oct-98</td>\n",
       "      <td>0</td>\n",
       "      <td>NaN</td>\n",
       "      <td>NaN</td>\n",
       "      <td>16</td>\n",
       "      <td>0</td>\n",
       "      <td>25797</td>\n",
       "      <td>49.90%</td>\n",
       "      <td>33</td>\n",
       "      <td>w</td>\n",
       "    </tr>\n",
       "    <tr>\n",
       "      <th>3</th>\n",
       "      <td>NaN</td>\n",
       "      <td>44429213</td>\n",
       "      <td>47476932</td>\n",
       "      <td>$10,000</td>\n",
       "      <td>$10,000</td>\n",
       "      <td>$10,000</td>\n",
       "      <td>60 months</td>\n",
       "      <td>D</td>\n",
       "      <td>D1</td>\n",
       "      <td>pharmacy associate</td>\n",
       "      <td>...</td>\n",
       "      <td>Feb-99</td>\n",
       "      <td>1</td>\n",
       "      <td>NaN</td>\n",
       "      <td>114.0</td>\n",
       "      <td>13</td>\n",
       "      <td>1</td>\n",
       "      <td>9586</td>\n",
       "      <td>43.80%</td>\n",
       "      <td>21</td>\n",
       "      <td>w</td>\n",
       "    </tr>\n",
       "    <tr>\n",
       "      <th>4</th>\n",
       "      <td>NaN</td>\n",
       "      <td>44299188</td>\n",
       "      <td>47346901</td>\n",
       "      <td>$24,000</td>\n",
       "      <td>$24,000</td>\n",
       "      <td>$24,000</td>\n",
       "      <td>60 months</td>\n",
       "      <td>B</td>\n",
       "      <td>B1</td>\n",
       "      <td>Medical case manager</td>\n",
       "      <td>...</td>\n",
       "      <td>2-Dec</td>\n",
       "      <td>0</td>\n",
       "      <td>48.0</td>\n",
       "      <td>NaN</td>\n",
       "      <td>27</td>\n",
       "      <td>0</td>\n",
       "      <td>31842</td>\n",
       "      <td>41.30%</td>\n",
       "      <td>43</td>\n",
       "      <td>w</td>\n",
       "    </tr>\n",
       "  </tbody>\n",
       "</table>\n",
       "<p>5 rows × 32 columns</p>\n",
       "</div>"
      ],
      "text/plain": [
       "   X1        X2        X3       X4       X5       X6          X7 X8  X9  \\\n",
       "0 NaN  44409194  47416907   $6,000   $6,000   $6,000   36 months  C  C5   \n",
       "1 NaN  44017917  47034722  $24,000  $24,000  $24,000   36 months  A  A1   \n",
       "2 NaN  44259158  47306871  $35,000  $35,000  $35,000   36 months  C  C2   \n",
       "3 NaN  44429213  47476932  $10,000  $10,000  $10,000   60 months  D  D1   \n",
       "4 NaN  44299188  47346901  $24,000  $24,000  $24,000   60 months  B  B1   \n",
       "\n",
       "                     X10  ...     X23 X24   X25    X26 X27 X28    X29     X30  \\\n",
       "0            Electrician  ...   2-Nov   1  26.0    NaN  18   0  19861  64.50%   \n",
       "1    Executive Assistant  ...  Dec-68   1   NaN    NaN  12   0  17001  26.20%   \n",
       "2  District Sales Leader  ...  Oct-98   0   NaN    NaN  16   0  25797  49.90%   \n",
       "3     pharmacy associate  ...  Feb-99   1   NaN  114.0  13   1   9586  43.80%   \n",
       "4   Medical case manager  ...   2-Dec   0  48.0    NaN  27   0  31842  41.30%   \n",
       "\n",
       "  X31 X32  \n",
       "0  33   f  \n",
       "1  36   w  \n",
       "2  33   w  \n",
       "3  21   w  \n",
       "4  43   w  \n",
       "\n",
       "[5 rows x 32 columns]"
      ]
     },
     "execution_count": 71,
     "metadata": {},
     "output_type": "execute_result"
    }
   ],
   "source": [
    "df_test.head()"
   ]
  },
  {
   "cell_type": "code",
   "execution_count": 72,
   "id": "525437c5-306f-4bda-8d07-3689fe703f4c",
   "metadata": {
    "tags": []
   },
   "outputs": [
    {
     "name": "stdout",
     "output_type": "stream",
     "text": [
      "<class 'pandas.core.frame.DataFrame'>\n",
      "RangeIndex: 80000 entries, 0 to 79999\n",
      "Data columns (total 32 columns):\n",
      " #   Column  Non-Null Count  Dtype  \n",
      "---  ------  --------------  -----  \n",
      " 0   X1      0 non-null      float64\n",
      " 1   X2      80000 non-null  int64  \n",
      " 2   X3      80000 non-null  int64  \n",
      " 3   X4      80000 non-null  object \n",
      " 4   X5      80000 non-null  object \n",
      " 5   X6      80000 non-null  object \n",
      " 6   X7      80000 non-null  object \n",
      " 7   X8      80000 non-null  object \n",
      " 8   X9      80000 non-null  object \n",
      " 9   X10     75606 non-null  object \n",
      " 10  X11     75618 non-null  object \n",
      " 11  X12     80000 non-null  object \n",
      " 12  X13     80000 non-null  float64\n",
      " 13  X14     80000 non-null  object \n",
      " 14  X15     80000 non-null  object \n",
      " 15  X16     15 non-null     object \n",
      " 16  X17     80000 non-null  object \n",
      " 17  X18     80000 non-null  object \n",
      " 18  X19     80000 non-null  object \n",
      " 19  X20     80000 non-null  object \n",
      " 20  X21     80000 non-null  float64\n",
      " 21  X22     80000 non-null  int64  \n",
      " 22  X23     80000 non-null  object \n",
      " 23  X24     80000 non-null  int64  \n",
      " 24  X25     41296 non-null  float64\n",
      " 25  X26     13839 non-null  float64\n",
      " 26  X27     80000 non-null  int64  \n",
      " 27  X28     80000 non-null  int64  \n",
      " 28  X29     80000 non-null  int64  \n",
      " 29  X30     79970 non-null  object \n",
      " 30  X31     80000 non-null  int64  \n",
      " 31  X32     80000 non-null  object \n",
      "dtypes: float64(5), int64(8), object(19)\n",
      "memory usage: 19.5+ MB\n"
     ]
    }
   ],
   "source": [
    "#Applying everything I did to train data to the test data so the modeling can be finalized\n",
    "df_test.info()"
   ]
  },
  {
   "cell_type": "code",
   "execution_count": 73,
   "id": "8530e169-d743-4a45-99fc-00125f69a8da",
   "metadata": {
    "tags": []
   },
   "outputs": [],
   "source": [
    "df_test = df_test.drop(['X18', 'X19', 'X25','X26','X16','X9', 'X10'], axis=1)"
   ]
  },
  {
   "cell_type": "code",
   "execution_count": 74,
   "id": "02757468-0b6f-488a-9e43-45b828539e1a",
   "metadata": {
    "tags": []
   },
   "outputs": [],
   "source": [
    "#Using the median of the annual income and imputing the missing values with that median value due to the right skewed distribution. \n",
    "median_income = df_test['X13'].median()\n",
    "\n",
    "df_test['X13'].fillna(median_income, inplace=True)"
   ]
  },
  {
   "cell_type": "code",
   "execution_count": 75,
   "id": "07dbd412-3ed3-4b1f-87bc-4f34a93108b7",
   "metadata": {
    "tags": []
   },
   "outputs": [],
   "source": [
    "#Im using label encoder to make the categorical data of the loan grade to numeric data and finding the median to fill empty values\n",
    "label_encoder = LabelEncoder()\n",
    "df_test['X8'] = label_encoder.fit_transform(df_test['X8'])\n",
    "                                       \n",
    "median_value = df_test['X8'].median()\n",
    "\n",
    "df_test['X8'].fillna(median_value, inplace=True)"
   ]
  },
  {
   "cell_type": "code",
   "execution_count": 76,
   "id": "da6a589d-ac13-488d-bdf1-193dd21edd02",
   "metadata": {
    "tags": []
   },
   "outputs": [],
   "source": [
    "df_test['X8'] = df_test['X8'].astype(float)"
   ]
  },
  {
   "cell_type": "code",
   "execution_count": 77,
   "id": "4f872ce7-2edf-4cc3-9b6f-f4f37832710f",
   "metadata": {
    "tags": []
   },
   "outputs": [],
   "source": [
    "df_test['X11'] = df_test['X11'].str.replace(' years?', '', regex=True)"
   ]
  },
  {
   "cell_type": "code",
   "execution_count": 78,
   "id": "65d58fbb-b77d-441f-820f-ad8d9f2e5d91",
   "metadata": {
    "tags": []
   },
   "outputs": [],
   "source": [
    "df_test['X11'] = df_test['X11'].replace({'< 1': 0, '<1': 0, '< 1 ': 0}, regex=True)"
   ]
  },
  {
   "cell_type": "code",
   "execution_count": 79,
   "id": "153f18cb-e808-4099-ab8c-559ba145d33f",
   "metadata": {
    "tags": []
   },
   "outputs": [],
   "source": [
    "df_test['X11'] = df_test['X11'].replace('\\+', '', regex=True)"
   ]
  },
  {
   "cell_type": "code",
   "execution_count": 80,
   "id": "dc89953f-2a6a-43c8-8b7d-0eabc895a0a6",
   "metadata": {
    "tags": []
   },
   "outputs": [],
   "source": [
    "df_test['X11'] = df_test['X11'].astype(float)"
   ]
  },
  {
   "cell_type": "code",
   "execution_count": 81,
   "id": "cc8ce3c8-a952-42bf-a05c-730accc779aa",
   "metadata": {
    "tags": []
   },
   "outputs": [],
   "source": [
    "label_encoder = LabelEncoder()\n",
    "df_test['X11'] = label_encoder.fit_transform(df_test['X11'])\n",
    "                                       \n",
    "median_value = df_test['X11'].median()\n",
    "\n",
    "df_test['X11'].fillna(median_value, inplace=True)"
   ]
  },
  {
   "cell_type": "code",
   "execution_count": 82,
   "id": "c3fb3e06-4825-4165-adff-c05c5011fee8",
   "metadata": {
    "tags": []
   },
   "outputs": [],
   "source": [
    "#handling X12\n",
    "\n",
    "label_encoder = LabelEncoder()\n",
    "df_test['X12'] = label_encoder.fit_transform(df_test['X12'])"
   ]
  },
  {
   "cell_type": "code",
   "execution_count": 83,
   "id": "a710ef12-ae7c-4087-b74c-d05df11d57a9",
   "metadata": {
    "tags": []
   },
   "outputs": [],
   "source": [
    "#stripping the percent sign and then changing it from an object to a float\n",
    "df_test['X30'] = df_test['X30'].str.rstrip('%').astype(float)"
   ]
  },
  {
   "cell_type": "code",
   "execution_count": 84,
   "id": "f1fea739-56e9-4175-90ef-8e4afd429b4e",
   "metadata": {
    "tags": []
   },
   "outputs": [],
   "source": [
    "#Using the mean of the annual utilization and imputing the missing values with that mean value.\n",
    "mean_utilization = df_test['X30'].mean()\n",
    "\n",
    "df_test['X30'].fillna(mean_utilization, inplace=True)"
   ]
  },
  {
   "cell_type": "code",
   "execution_count": 85,
   "id": "2a821efb-3da9-484a-9b35-c4ecd7628aef",
   "metadata": {
    "tags": []
   },
   "outputs": [],
   "source": [
    "#stripping the \"months\" and then changing it from an object to a float\n",
    "df_test['X7'] = df_test['X7'].str.rstrip('months')"
   ]
  },
  {
   "cell_type": "code",
   "execution_count": 86,
   "id": "100e8bda-597a-4aee-8df4-39b8c4adee1f",
   "metadata": {
    "tags": []
   },
   "outputs": [],
   "source": [
    "#encoding X7\n",
    "label_encoder = LabelEncoder()\n",
    "df_test['X7'] = label_encoder.fit_transform(df_test['X7'])"
   ]
  },
  {
   "cell_type": "code",
   "execution_count": 87,
   "id": "76d35138-d7b2-46f2-816c-791ee2cc8fde",
   "metadata": {
    "tags": []
   },
   "outputs": [],
   "source": [
    "df_test['X7'] = df_test['X7'].astype(float)"
   ]
  },
  {
   "cell_type": "code",
   "execution_count": 88,
   "id": "2417c1ec-c45c-4d1b-b9dd-4e36bf1733b7",
   "metadata": {
    "tags": []
   },
   "outputs": [],
   "source": [
    "#encoding X14\n",
    "label_encoder = LabelEncoder()\n",
    "df_test['X14'] = label_encoder.fit_transform(df_test['X14'])"
   ]
  },
  {
   "cell_type": "code",
   "execution_count": 89,
   "id": "a1c99c6b-a238-40e2-9280-c1bb6f93dc92",
   "metadata": {
    "tags": []
   },
   "outputs": [],
   "source": [
    "df_test['X14'] = df_test['X14'].astype(float)"
   ]
  },
  {
   "cell_type": "code",
   "execution_count": 90,
   "id": "5f1c117f-5e5f-4d19-969c-1449d42c6a39",
   "metadata": {
    "tags": []
   },
   "outputs": [],
   "source": [
    "#dropping X17 self reported loan category is not useful in analysis \n",
    "df_test = df_test.drop(['X17'], axis=1)"
   ]
  },
  {
   "cell_type": "code",
   "execution_count": 91,
   "id": "3d8e8ea2-f962-45b6-a4b4-8f9e9a649d00",
   "metadata": {
    "tags": []
   },
   "outputs": [
    {
     "name": "stderr",
     "output_type": "stream",
     "text": [
      "/var/folders/hm/gwb0cqbs5g57t8bgrprc_2t40000gn/T/ipykernel_21902/4019896137.py:2: FutureWarning: The default value of regex will change from True to False in a future version. In addition, single character regular expressions will *not* be treated as literal strings when regex=True.\n",
      "  df_test['X4'] = df_test['X4'].str.replace('$', '').astype(str).str.replace(',', '').astype(float)\n",
      "/var/folders/hm/gwb0cqbs5g57t8bgrprc_2t40000gn/T/ipykernel_21902/4019896137.py:3: FutureWarning: The default value of regex will change from True to False in a future version. In addition, single character regular expressions will *not* be treated as literal strings when regex=True.\n",
      "  df_test['X5'] = df_test['X5'].str.replace('$', '').astype(str).str.replace(',', '').astype(float)\n",
      "/var/folders/hm/gwb0cqbs5g57t8bgrprc_2t40000gn/T/ipykernel_21902/4019896137.py:4: FutureWarning: The default value of regex will change from True to False in a future version. In addition, single character regular expressions will *not* be treated as literal strings when regex=True.\n",
      "  df_test['X6'] = df_test['X6'].str.replace('$', '').astype(str).str.replace(',', '').astype(float)\n"
     ]
    }
   ],
   "source": [
    "#Changing money to floats \n",
    "df_test['X4'] = df_test['X4'].str.replace('$', '').astype(str).str.replace(',', '').astype(float)\n",
    "df_test['X5'] = df_test['X5'].str.replace('$', '').astype(str).str.replace(',', '').astype(float)\n",
    "df_test['X6'] = df_test['X6'].str.replace('$', '').astype(str).str.replace(',', '').astype(float)"
   ]
  },
  {
   "cell_type": "code",
   "execution_count": 92,
   "id": "5aa3e09c-8b2f-4fba-b9d7-335e8ff3813c",
   "metadata": {
    "tags": []
   },
   "outputs": [],
   "source": [
    "#encoding X20 (State)\n",
    "label_encoder = LabelEncoder()\n",
    "df_test['X20'] = label_encoder.fit_transform(df_test['X20'])"
   ]
  },
  {
   "cell_type": "code",
   "execution_count": 93,
   "id": "127a1814-297e-4781-8eda-2942c4f3f10c",
   "metadata": {
    "tags": []
   },
   "outputs": [],
   "source": [
    "df_test['X20'] = df_test['X20'].astype(float)"
   ]
  },
  {
   "cell_type": "code",
   "execution_count": 94,
   "id": "94ae3383-173b-4554-b573-6e338cfca3b5",
   "metadata": {
    "tags": []
   },
   "outputs": [],
   "source": [
    "#encoding X32 (initial listing of the loan)\n",
    "label_encoder = LabelEncoder()\n",
    "df_test['X32'] = label_encoder.fit_transform(df_test['X32'])"
   ]
  },
  {
   "cell_type": "code",
   "execution_count": 95,
   "id": "5379f51a-596c-4f80-9705-fdd617d8481b",
   "metadata": {
    "tags": []
   },
   "outputs": [],
   "source": [
    "df_test['X32'] = df_test['X32'].astype(float)"
   ]
  },
  {
   "cell_type": "code",
   "execution_count": 96,
   "id": "70aebb72-cf94-4c4a-a47a-0d75ecb572a5",
   "metadata": {
    "tags": []
   },
   "outputs": [],
   "source": [
    "# dropping the Date X23\n",
    "df_test = df_test.drop(['X23'], axis=1)"
   ]
  },
  {
   "cell_type": "code",
   "execution_count": 97,
   "id": "586c55b8-0a47-49e8-87f4-443f4190543f",
   "metadata": {
    "tags": []
   },
   "outputs": [],
   "source": [
    "# dropping the Date X15\n",
    "df_test = df_test.drop(['X15'], axis=1)"
   ]
  },
  {
   "cell_type": "code",
   "execution_count": 98,
   "id": "6f98d12a-f196-4c14-bf04-f9a01a9b3e3c",
   "metadata": {
    "tags": []
   },
   "outputs": [
    {
     "name": "stdout",
     "output_type": "stream",
     "text": [
      "<class 'pandas.core.frame.DataFrame'>\n",
      "RangeIndex: 80000 entries, 0 to 79999\n",
      "Data columns (total 22 columns):\n",
      " #   Column  Non-Null Count  Dtype  \n",
      "---  ------  --------------  -----  \n",
      " 0   X1      0 non-null      float64\n",
      " 1   X2      80000 non-null  int64  \n",
      " 2   X3      80000 non-null  int64  \n",
      " 3   X4      80000 non-null  float64\n",
      " 4   X5      80000 non-null  float64\n",
      " 5   X6      80000 non-null  float64\n",
      " 6   X7      80000 non-null  float64\n",
      " 7   X8      80000 non-null  float64\n",
      " 8   X11     80000 non-null  int64  \n",
      " 9   X12     80000 non-null  int64  \n",
      " 10  X13     80000 non-null  float64\n",
      " 11  X14     80000 non-null  float64\n",
      " 12  X20     80000 non-null  float64\n",
      " 13  X21     80000 non-null  float64\n",
      " 14  X22     80000 non-null  int64  \n",
      " 15  X24     80000 non-null  int64  \n",
      " 16  X27     80000 non-null  int64  \n",
      " 17  X28     80000 non-null  int64  \n",
      " 18  X29     80000 non-null  int64  \n",
      " 19  X30     80000 non-null  float64\n",
      " 20  X31     80000 non-null  int64  \n",
      " 21  X32     80000 non-null  float64\n",
      "dtypes: float64(12), int64(10)\n",
      "memory usage: 13.4 MB\n"
     ]
    }
   ],
   "source": [
    "df_test.info()"
   ]
  },
  {
   "cell_type": "code",
   "execution_count": 102,
   "id": "adef13ee-48ab-42d1-93b8-bc1056df276e",
   "metadata": {
    "tags": []
   },
   "outputs": [],
   "source": [
    "# dropping the X1\n",
    "df_test = df_test.drop(['X1'], axis=1)"
   ]
  },
  {
   "cell_type": "markdown",
   "id": "00f49d9b-d90f-4e71-98cc-359405f2fbc7",
   "metadata": {},
   "source": [
    "# Applying Random Forest Model to Test Data"
   ]
  },
  {
   "cell_type": "code",
   "execution_count": 103,
   "id": "2379eb60-b57f-48af-838e-b1f62db84922",
   "metadata": {
    "tags": []
   },
   "outputs": [
    {
     "name": "stdout",
     "output_type": "stream",
     "text": [
      "Root Mean Squared Error: 1.4617783189548048\n"
     ]
    }
   ],
   "source": [
    "trained_model_RF = model_regression(RandomForestRegressor)"
   ]
  },
  {
   "cell_type": "code",
   "execution_count": 104,
   "id": "f938a530-d78a-4873-94f3-e82809ad08a2",
   "metadata": {
    "tags": []
   },
   "outputs": [
    {
     "name": "stderr",
     "output_type": "stream",
     "text": [
      "/Users/ElenaGualda_1/anaconda3/lib/python3.11/site-packages/sklearn/base.py:457: UserWarning: X has feature names, but RandomForestRegressor was fitted without feature names\n",
      "  warnings.warn(\n"
     ]
    }
   ],
   "source": [
    "predictions = trained_model_RF.predict(df_test)"
   ]
  },
  {
   "cell_type": "code",
   "execution_count": 106,
   "id": "eba67e7c-2f73-410b-9b2d-fc14a72b713b",
   "metadata": {
    "tags": []
   },
   "outputs": [
    {
     "data": {
      "text/plain": [
       "array([16.395 , 17.0092, 14.954 , ..., 15.1317, 15.1317, 15.6541])"
      ]
     },
     "execution_count": 106,
     "metadata": {},
     "output_type": "execute_result"
    }
   ],
   "source": [
    "predictions"
   ]
  },
  {
   "cell_type": "code",
   "execution_count": 108,
   "id": "a45f28d0-e906-45e3-b708-2184719709ba",
   "metadata": {
    "tags": []
   },
   "outputs": [],
   "source": [
    "df_predictions = pd.DataFrame(predictions)\n",
    "\n",
    "# Saving results to CSV\n",
    "df_predictions.to_csv('/Users/ElenaGualda_1/Desktop/Winter 2024/Results_from_EGualda.csv', index=False)"
   ]
  },
  {
   "cell_type": "markdown",
   "id": "e75cd3d2-f539-43b8-87c8-fdaffa1c4302",
   "metadata": {},
   "source": [
    "# Brief Writeup - Pros/Cons"
   ]
  },
  {
   "cell_type": "markdown",
   "id": "798c1241-5684-4ef0-a933-01d62fc5bec5",
   "metadata": {},
   "source": [
    "I trained my data with a handful of models. The models I were between were Gradient Boosting and Random Forest due to the RMSE. The model I chose was Random Forest due to the RMSE being lower than Gradient Boosing. The pros of Random Forest versus Gradient Boosing include less prone to overfitting and holds importance on features and is not as sensitive to noise. Pros of Gradient boosting include the ability to capture complex features and their respective relationships. Downside to gradient boosting is that it is a bit more computationally expensive due to its sensitivity to noise. "
   ]
  }
 ],
 "metadata": {
  "kernelspec": {
   "display_name": "Python 3 (ipykernel)",
   "language": "python",
   "name": "python3"
  },
  "language_info": {
   "codemirror_mode": {
    "name": "ipython",
    "version": 3
   },
   "file_extension": ".py",
   "mimetype": "text/x-python",
   "name": "python",
   "nbconvert_exporter": "python",
   "pygments_lexer": "ipython3",
   "version": "3.12.4"
  }
 },
 "nbformat": 4,
 "nbformat_minor": 5
}
